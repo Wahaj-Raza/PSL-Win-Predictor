{
 "cells": [
  {
   "attachments": {},
   "cell_type": "markdown",
   "id": "invisible-hammer",
   "metadata": {
    "execution": {
     "iopub.execute_input": "2021-05-30T07:33:25.823624Z",
     "iopub.status.busy": "2021-05-30T07:33:25.823243Z",
     "iopub.status.idle": "2021-05-30T07:33:25.827785Z",
     "shell.execute_reply": "2021-05-30T07:33:25.827022Z",
     "shell.execute_reply.started": "2021-05-30T07:33:25.823536Z"
    },
    "papermill": {
     "duration": 0.04221,
     "end_time": "2021-06-25T21:16:58.843484",
     "exception": false,
     "start_time": "2021-06-25T21:16:58.801274",
     "status": "completed"
    },
    "tags": []
   },
   "source": [
    "<b><h1 style = 'color:Green; font-size: 35px;'>Pakistan Super League 8 Win Predictor + Data Analysis on Team Performances from 2016-2022 <h1></b>"
   ]
  },
  {
   "attachments": {},
   "cell_type": "markdown",
   "id": "cf8bd4ce",
   "metadata": {},
   "source": [
    "# Importing Libraries"
   ]
  },
  {
   "cell_type": "code",
   "execution_count": 2,
   "id": "honey-warren",
   "metadata": {
    "_cell_guid": "b1076dfc-b9ad-4769-8c92-a6c4dae69d19",
    "_uuid": "8f2839f25d086af736a60e9eeb907d3b93b6e0e5",
    "execution": {
     "iopub.execute_input": "2021-06-25T21:16:58.941363Z",
     "iopub.status.busy": "2021-06-25T21:16:58.940560Z",
     "iopub.status.idle": "2021-06-25T21:17:02.764403Z",
     "shell.execute_reply": "2021-06-25T21:17:02.765113Z",
     "shell.execute_reply.started": "2021-06-05T14:30:41.500232Z"
    },
    "papermill": {
     "duration": 3.87998,
     "end_time": "2021-06-25T21:17:02.765471",
     "exception": false,
     "start_time": "2021-06-25T21:16:58.885491",
     "status": "completed"
    },
    "tags": []
   },
   "outputs": [
    {
     "data": {
      "text/html": [
       "        <script type=\"text/javascript\">\n",
       "        window.PlotlyConfig = {MathJaxConfig: 'local'};\n",
       "        if (window.MathJax && window.MathJax.Hub && window.MathJax.Hub.Config) {window.MathJax.Hub.Config({SVG: {font: \"STIX-Web\"}});}\n",
       "        if (typeof require !== 'undefined') {\n",
       "        require.undef(\"plotly\");\n",
       "        requirejs.config({\n",
       "            paths: {\n",
       "                'plotly': ['https://cdn.plot.ly/plotly-2.18.2.min']\n",
       "            }\n",
       "        });\n",
       "        require(['plotly'], function(Plotly) {\n",
       "            window._Plotly = Plotly;\n",
       "        });\n",
       "        }\n",
       "        </script>\n",
       "        "
      ]
     },
     "metadata": {},
     "output_type": "display_data"
    }
   ],
   "source": [
    "# This Python 3 environment comes with many helpful analytics libraries installed\n",
    "# It is defined by the kaggle/python Docker image: https://github.com/kaggle/docker-python\n",
    "# For example, here's several helpful packages to load\n",
    "\n",
    "import pandas as pd # data processing, CSV file I/O (e.g. pd.read_csv)\n",
    "import numpy as np # linear algebra \n",
    "import math\n",
    "from sklearn import svm\n",
    "from sklearn.model_selection import train_test_split\n",
    "from sklearn.ensemble import RandomForestClassifier\n",
    "import xgboost\n",
    "from sklearn.metrics import accuracy_score, confusion_matrix, classification_report\n",
    "from sklearn.model_selection import RepeatedStratifiedKFold\n",
    "import time\n",
    "from sklearn.model_selection import cross_val_score\n",
    "import joblib\n",
    "\n",
    "# data visualization(for EDA)\n",
    "import matplotlib.pyplot as plt\n",
    "import seaborn as sns\n",
    "%matplotlib inline\n",
    "plt.style.use('ggplot')\n",
    "sns.set(color_codes=True)\n",
    "import plotly.express as px\n",
    "import cufflinks as cf\n",
    "cf.go_offline()\n",
    "cf.set_config_file(offline=False, world_readable=True)"
   ]
  },
  {
   "cell_type": "markdown",
   "id": "differential-murray",
   "metadata": {
    "papermill": {
     "duration": 0.04252,
     "end_time": "2021-06-25T21:17:02.851537",
     "exception": false,
     "start_time": "2021-06-25T21:17:02.809017",
     "status": "completed"
    },
    "tags": []
   },
   "source": [
    "# Loading and Importing Data"
   ]
  },
  {
   "cell_type": "code",
   "execution_count": 4,
   "id": "danish-failure",
   "metadata": {
    "execution": {
     "iopub.execute_input": "2021-06-25T21:17:02.938272Z",
     "iopub.status.busy": "2021-06-25T21:17:02.937548Z",
     "iopub.status.idle": "2021-06-25T21:17:03.058514Z",
     "shell.execute_reply": "2021-06-25T21:17:03.057952Z",
     "shell.execute_reply.started": "2021-06-05T14:30:41.539922Z"
    },
    "papermill": {
     "duration": 0.165154,
     "end_time": "2021-06-25T21:17:03.058639",
     "exception": false,
     "start_time": "2021-06-25T21:17:02.893485",
     "status": "completed"
    },
    "tags": []
   },
   "outputs": [
    {
     "data": {
      "text/html": [
       "<div>\n",
       "<style scoped>\n",
       "    .dataframe tbody tr th:only-of-type {\n",
       "        vertical-align: middle;\n",
       "    }\n",
       "\n",
       "    .dataframe tbody tr th {\n",
       "        vertical-align: top;\n",
       "    }\n",
       "\n",
       "    .dataframe thead th {\n",
       "        text-align: right;\n",
       "    }\n",
       "</style>\n",
       "<table border=\"1\" class=\"dataframe\">\n",
       "  <thead>\n",
       "    <tr style=\"text-align: right;\">\n",
       "      <th></th>\n",
       "      <th>psl_year</th>\n",
       "      <th>match_number</th>\n",
       "      <th>team_1</th>\n",
       "      <th>team_2</th>\n",
       "      <th>inning</th>\n",
       "      <th>over</th>\n",
       "      <th>ball</th>\n",
       "      <th>runs</th>\n",
       "      <th>wicket</th>\n",
       "      <th>total_runs</th>\n",
       "      <th>wickets</th>\n",
       "      <th>is_four</th>\n",
       "      <th>is_six</th>\n",
       "      <th>is_wicket</th>\n",
       "      <th>wicket_text</th>\n",
       "      <th>result</th>\n",
       "    </tr>\n",
       "  </thead>\n",
       "  <tbody>\n",
       "    <tr>\n",
       "      <th>0</th>\n",
       "      <td>2016</td>\n",
       "      <td>1</td>\n",
       "      <td>Islamabad United</td>\n",
       "      <td>Quetta Gladiators</td>\n",
       "      <td>1</td>\n",
       "      <td>1</td>\n",
       "      <td>1</td>\n",
       "      <td>0</td>\n",
       "      <td>NaN</td>\n",
       "      <td>0</td>\n",
       "      <td>0</td>\n",
       "      <td>False</td>\n",
       "      <td>False</td>\n",
       "      <td>False</td>\n",
       "      <td>NaN</td>\n",
       "      <td>Gladiators</td>\n",
       "    </tr>\n",
       "    <tr>\n",
       "      <th>1</th>\n",
       "      <td>2016</td>\n",
       "      <td>1</td>\n",
       "      <td>Islamabad United</td>\n",
       "      <td>Quetta Gladiators</td>\n",
       "      <td>1</td>\n",
       "      <td>1</td>\n",
       "      <td>2</td>\n",
       "      <td>0</td>\n",
       "      <td>NaN</td>\n",
       "      <td>0</td>\n",
       "      <td>0</td>\n",
       "      <td>False</td>\n",
       "      <td>False</td>\n",
       "      <td>False</td>\n",
       "      <td>NaN</td>\n",
       "      <td>Gladiators</td>\n",
       "    </tr>\n",
       "    <tr>\n",
       "      <th>2</th>\n",
       "      <td>2016</td>\n",
       "      <td>1</td>\n",
       "      <td>Islamabad United</td>\n",
       "      <td>Quetta Gladiators</td>\n",
       "      <td>1</td>\n",
       "      <td>1</td>\n",
       "      <td>3</td>\n",
       "      <td>0</td>\n",
       "      <td>NaN</td>\n",
       "      <td>0</td>\n",
       "      <td>0</td>\n",
       "      <td>False</td>\n",
       "      <td>False</td>\n",
       "      <td>False</td>\n",
       "      <td>NaN</td>\n",
       "      <td>Gladiators</td>\n",
       "    </tr>\n",
       "    <tr>\n",
       "      <th>3</th>\n",
       "      <td>2016</td>\n",
       "      <td>1</td>\n",
       "      <td>Islamabad United</td>\n",
       "      <td>Quetta Gladiators</td>\n",
       "      <td>1</td>\n",
       "      <td>1</td>\n",
       "      <td>4</td>\n",
       "      <td>0</td>\n",
       "      <td>NaN</td>\n",
       "      <td>0</td>\n",
       "      <td>0</td>\n",
       "      <td>False</td>\n",
       "      <td>False</td>\n",
       "      <td>False</td>\n",
       "      <td>NaN</td>\n",
       "      <td>Gladiators</td>\n",
       "    </tr>\n",
       "    <tr>\n",
       "      <th>4</th>\n",
       "      <td>2016</td>\n",
       "      <td>1</td>\n",
       "      <td>Islamabad United</td>\n",
       "      <td>Quetta Gladiators</td>\n",
       "      <td>1</td>\n",
       "      <td>1</td>\n",
       "      <td>5</td>\n",
       "      <td>0</td>\n",
       "      <td>NaN</td>\n",
       "      <td>0</td>\n",
       "      <td>0</td>\n",
       "      <td>False</td>\n",
       "      <td>False</td>\n",
       "      <td>False</td>\n",
       "      <td>NaN</td>\n",
       "      <td>Gladiators</td>\n",
       "    </tr>\n",
       "  </tbody>\n",
       "</table>\n",
       "</div>"
      ],
      "text/plain": [
       "   psl_year  match_number            team_1             team_2  inning  over  \\\n",
       "0      2016             1  Islamabad United  Quetta Gladiators       1     1   \n",
       "1      2016             1  Islamabad United  Quetta Gladiators       1     1   \n",
       "2      2016             1  Islamabad United  Quetta Gladiators       1     1   \n",
       "3      2016             1  Islamabad United  Quetta Gladiators       1     1   \n",
       "4      2016             1  Islamabad United  Quetta Gladiators       1     1   \n",
       "\n",
       "   ball  runs  wicket  total_runs  wickets  is_four  is_six  is_wicket  \\\n",
       "0     1     0     NaN           0        0    False   False      False   \n",
       "1     2     0     NaN           0        0    False   False      False   \n",
       "2     3     0     NaN           0        0    False   False      False   \n",
       "3     4     0     NaN           0        0    False   False      False   \n",
       "4     5     0     NaN           0        0    False   False      False   \n",
       "\n",
       "  wicket_text      result  \n",
       "0         NaN  Gladiators  \n",
       "1         NaN  Gladiators  \n",
       "2         NaN  Gladiators  \n",
       "3         NaN  Gladiators  \n",
       "4         NaN  Gladiators  "
      ]
     },
     "execution_count": 4,
     "metadata": {},
     "output_type": "execute_result"
    }
   ],
   "source": [
    "df = pd.read_csv('PSL-2016-2022.csv')\n",
    "df.head()\n"
   ]
  },
  {
   "cell_type": "markdown",
   "id": "enhanced-muslim",
   "metadata": {
    "papermill": {
     "duration": 0.042919,
     "end_time": "2021-06-25T21:17:03.144817",
     "exception": false,
     "start_time": "2021-06-25T21:17:03.101898",
     "status": "completed"
    },
    "tags": []
   },
   "source": [
    "# Data preprocessing (Cleaning)"
   ]
  },
  {
   "cell_type": "code",
   "execution_count": 5,
   "id": "heard-reynolds",
   "metadata": {
    "execution": {
     "iopub.execute_input": "2021-06-25T21:17:03.237851Z",
     "iopub.status.busy": "2021-06-25T21:17:03.237245Z",
     "iopub.status.idle": "2021-06-25T21:17:03.242699Z",
     "shell.execute_reply": "2021-06-25T21:17:03.242279Z",
     "shell.execute_reply.started": "2021-06-05T14:30:41.62205Z"
    },
    "papermill": {
     "duration": 0.055913,
     "end_time": "2021-06-25T21:17:03.242847",
     "exception": false,
     "start_time": "2021-06-25T21:17:03.186934",
     "status": "completed"
    },
    "tags": []
   },
   "outputs": [
    {
     "data": {
      "text/plain": [
       "array([nan,  1.,  2.,  3.,  4.,  5.,  6.,  8.])"
      ]
     },
     "execution_count": 5,
     "metadata": {},
     "output_type": "execute_result"
    }
   ],
   "source": [
    "df['wicket'].unique()"
   ]
  },
  {
   "cell_type": "code",
   "execution_count": 6,
   "id": "disabled-purple",
   "metadata": {
    "execution": {
     "iopub.execute_input": "2021-06-25T21:17:03.336092Z",
     "iopub.status.busy": "2021-06-25T21:17:03.335223Z",
     "iopub.status.idle": "2021-06-25T21:17:03.339368Z",
     "shell.execute_reply": "2021-06-25T21:17:03.338816Z",
     "shell.execute_reply.started": "2021-06-05T14:30:41.630467Z"
    },
    "papermill": {
     "duration": 0.053932,
     "end_time": "2021-06-25T21:17:03.339500",
     "exception": false,
     "start_time": "2021-06-25T21:17:03.285568",
     "status": "completed"
    },
    "tags": []
   },
   "outputs": [
    {
     "data": {
      "text/plain": [
       "array([nan, 'caught', 'bowled', 'lbw', 'run out', 'stumped', 'hit wicket',\n",
       "       'obstruct field'], dtype=object)"
      ]
     },
     "execution_count": 6,
     "metadata": {},
     "output_type": "execute_result"
    }
   ],
   "source": [
    "df['wicket_text'].unique()"
   ]
  },
  {
   "cell_type": "code",
   "execution_count": 7,
   "id": "frequent-stock",
   "metadata": {
    "execution": {
     "iopub.execute_input": "2021-06-25T21:17:03.429683Z",
     "iopub.status.busy": "2021-06-25T21:17:03.429047Z",
     "iopub.status.idle": "2021-06-25T21:17:03.444358Z",
     "shell.execute_reply": "2021-06-25T21:17:03.444762Z",
     "shell.execute_reply.started": "2021-06-05T14:30:41.653418Z"
    },
    "papermill": {
     "duration": 0.062714,
     "end_time": "2021-06-25T21:17:03.444933",
     "exception": false,
     "start_time": "2021-06-25T21:17:03.382219",
     "status": "completed"
    },
    "tags": []
   },
   "outputs": [
    {
     "data": {
      "text/html": [
       "<div>\n",
       "<style scoped>\n",
       "    .dataframe tbody tr th:only-of-type {\n",
       "        vertical-align: middle;\n",
       "    }\n",
       "\n",
       "    .dataframe tbody tr th {\n",
       "        vertical-align: top;\n",
       "    }\n",
       "\n",
       "    .dataframe thead th {\n",
       "        text-align: right;\n",
       "    }\n",
       "</style>\n",
       "<table border=\"1\" class=\"dataframe\">\n",
       "  <thead>\n",
       "    <tr style=\"text-align: right;\">\n",
       "      <th></th>\n",
       "      <th>psl_year</th>\n",
       "      <th>match_number</th>\n",
       "      <th>team_1</th>\n",
       "      <th>team_2</th>\n",
       "      <th>inning</th>\n",
       "      <th>over</th>\n",
       "      <th>ball</th>\n",
       "      <th>runs</th>\n",
       "      <th>wicket</th>\n",
       "      <th>total_runs</th>\n",
       "      <th>wickets</th>\n",
       "      <th>is_four</th>\n",
       "      <th>is_six</th>\n",
       "      <th>is_wicket</th>\n",
       "      <th>wicket_text</th>\n",
       "      <th>result</th>\n",
       "    </tr>\n",
       "  </thead>\n",
       "  <tbody>\n",
       "    <tr>\n",
       "      <th>0</th>\n",
       "      <td>2016</td>\n",
       "      <td>1</td>\n",
       "      <td>Islamabad United</td>\n",
       "      <td>Quetta Gladiators</td>\n",
       "      <td>1</td>\n",
       "      <td>1</td>\n",
       "      <td>1</td>\n",
       "      <td>0</td>\n",
       "      <td>0.0</td>\n",
       "      <td>0</td>\n",
       "      <td>0</td>\n",
       "      <td>False</td>\n",
       "      <td>False</td>\n",
       "      <td>False</td>\n",
       "      <td>NaN</td>\n",
       "      <td>Gladiators</td>\n",
       "    </tr>\n",
       "    <tr>\n",
       "      <th>1</th>\n",
       "      <td>2016</td>\n",
       "      <td>1</td>\n",
       "      <td>Islamabad United</td>\n",
       "      <td>Quetta Gladiators</td>\n",
       "      <td>1</td>\n",
       "      <td>1</td>\n",
       "      <td>2</td>\n",
       "      <td>0</td>\n",
       "      <td>0.0</td>\n",
       "      <td>0</td>\n",
       "      <td>0</td>\n",
       "      <td>False</td>\n",
       "      <td>False</td>\n",
       "      <td>False</td>\n",
       "      <td>NaN</td>\n",
       "      <td>Gladiators</td>\n",
       "    </tr>\n",
       "    <tr>\n",
       "      <th>2</th>\n",
       "      <td>2016</td>\n",
       "      <td>1</td>\n",
       "      <td>Islamabad United</td>\n",
       "      <td>Quetta Gladiators</td>\n",
       "      <td>1</td>\n",
       "      <td>1</td>\n",
       "      <td>3</td>\n",
       "      <td>0</td>\n",
       "      <td>0.0</td>\n",
       "      <td>0</td>\n",
       "      <td>0</td>\n",
       "      <td>False</td>\n",
       "      <td>False</td>\n",
       "      <td>False</td>\n",
       "      <td>NaN</td>\n",
       "      <td>Gladiators</td>\n",
       "    </tr>\n",
       "    <tr>\n",
       "      <th>3</th>\n",
       "      <td>2016</td>\n",
       "      <td>1</td>\n",
       "      <td>Islamabad United</td>\n",
       "      <td>Quetta Gladiators</td>\n",
       "      <td>1</td>\n",
       "      <td>1</td>\n",
       "      <td>4</td>\n",
       "      <td>0</td>\n",
       "      <td>0.0</td>\n",
       "      <td>0</td>\n",
       "      <td>0</td>\n",
       "      <td>False</td>\n",
       "      <td>False</td>\n",
       "      <td>False</td>\n",
       "      <td>NaN</td>\n",
       "      <td>Gladiators</td>\n",
       "    </tr>\n",
       "    <tr>\n",
       "      <th>4</th>\n",
       "      <td>2016</td>\n",
       "      <td>1</td>\n",
       "      <td>Islamabad United</td>\n",
       "      <td>Quetta Gladiators</td>\n",
       "      <td>1</td>\n",
       "      <td>1</td>\n",
       "      <td>5</td>\n",
       "      <td>0</td>\n",
       "      <td>0.0</td>\n",
       "      <td>0</td>\n",
       "      <td>0</td>\n",
       "      <td>False</td>\n",
       "      <td>False</td>\n",
       "      <td>False</td>\n",
       "      <td>NaN</td>\n",
       "      <td>Gladiators</td>\n",
       "    </tr>\n",
       "  </tbody>\n",
       "</table>\n",
       "</div>"
      ],
      "text/plain": [
       "   psl_year  match_number            team_1             team_2  inning  over  \\\n",
       "0      2016             1  Islamabad United  Quetta Gladiators       1     1   \n",
       "1      2016             1  Islamabad United  Quetta Gladiators       1     1   \n",
       "2      2016             1  Islamabad United  Quetta Gladiators       1     1   \n",
       "3      2016             1  Islamabad United  Quetta Gladiators       1     1   \n",
       "4      2016             1  Islamabad United  Quetta Gladiators       1     1   \n",
       "\n",
       "   ball  runs  wicket  total_runs  wickets  is_four  is_six  is_wicket  \\\n",
       "0     1     0     0.0           0        0    False   False      False   \n",
       "1     2     0     0.0           0        0    False   False      False   \n",
       "2     3     0     0.0           0        0    False   False      False   \n",
       "3     4     0     0.0           0        0    False   False      False   \n",
       "4     5     0     0.0           0        0    False   False      False   \n",
       "\n",
       "  wicket_text      result  \n",
       "0         NaN  Gladiators  \n",
       "1         NaN  Gladiators  \n",
       "2         NaN  Gladiators  \n",
       "3         NaN  Gladiators  \n",
       "4         NaN  Gladiators  "
      ]
     },
     "execution_count": 7,
     "metadata": {},
     "output_type": "execute_result"
    }
   ],
   "source": [
    "df['wicket'].fillna(0,inplace = True)\n",
    "df.head()"
   ]
  },
  {
   "cell_type": "markdown",
   "id": "tough-message",
   "metadata": {
    "papermill": {
     "duration": 0.042712,
     "end_time": "2021-06-25T21:17:03.530816",
     "exception": false,
     "start_time": "2021-06-25T21:17:03.488104",
     "status": "completed"
    },
    "tags": []
   },
   "source": [
    "#### Hence, we replaced the nans in the 'wicket' column with 0."
   ]
  },
  {
   "cell_type": "markdown",
   "id": "global-logan",
   "metadata": {
    "papermill": {
     "duration": 0.043136,
     "end_time": "2021-06-25T21:17:03.617584",
     "exception": false,
     "start_time": "2021-06-25T21:17:03.574448",
     "status": "completed"
    },
    "tags": []
   },
   "source": [
    "# Boundaries Count"
   ]
  },
  {
   "cell_type": "code",
   "execution_count": 8,
   "id": "moral-thumbnail",
   "metadata": {
    "execution": {
     "iopub.execute_input": "2021-06-25T21:17:03.707044Z",
     "iopub.status.busy": "2021-06-25T21:17:03.706484Z",
     "iopub.status.idle": "2021-06-25T21:17:03.737596Z",
     "shell.execute_reply": "2021-06-25T21:17:03.738273Z",
     "shell.execute_reply.started": "2021-06-05T14:30:41.680669Z"
    },
    "papermill": {
     "duration": 0.077708,
     "end_time": "2021-06-25T21:17:03.738468",
     "exception": false,
     "start_time": "2021-06-25T21:17:03.660760",
     "status": "completed"
    },
    "tags": []
   },
   "outputs": [
    {
     "data": {
      "text/html": [
       "<div>\n",
       "<style scoped>\n",
       "    .dataframe tbody tr th:only-of-type {\n",
       "        vertical-align: middle;\n",
       "    }\n",
       "\n",
       "    .dataframe tbody tr th {\n",
       "        vertical-align: top;\n",
       "    }\n",
       "\n",
       "    .dataframe thead th {\n",
       "        text-align: right;\n",
       "    }\n",
       "</style>\n",
       "<table border=\"1\" class=\"dataframe\">\n",
       "  <thead>\n",
       "    <tr style=\"text-align: right;\">\n",
       "      <th></th>\n",
       "      <th>psl_year</th>\n",
       "      <th>fours</th>\n",
       "      <th>sixes</th>\n",
       "      <th>matches</th>\n",
       "    </tr>\n",
       "  </thead>\n",
       "  <tbody>\n",
       "    <tr>\n",
       "      <th>0</th>\n",
       "      <td>2016</td>\n",
       "      <td>566</td>\n",
       "      <td>247</td>\n",
       "      <td>24</td>\n",
       "    </tr>\n",
       "    <tr>\n",
       "      <th>1</th>\n",
       "      <td>2017</td>\n",
       "      <td>552</td>\n",
       "      <td>258</td>\n",
       "      <td>24</td>\n",
       "    </tr>\n",
       "    <tr>\n",
       "      <th>2</th>\n",
       "      <td>2018</td>\n",
       "      <td>774</td>\n",
       "      <td>414</td>\n",
       "      <td>34</td>\n",
       "    </tr>\n",
       "    <tr>\n",
       "      <th>3</th>\n",
       "      <td>2019</td>\n",
       "      <td>879</td>\n",
       "      <td>377</td>\n",
       "      <td>34</td>\n",
       "    </tr>\n",
       "    <tr>\n",
       "      <th>4</th>\n",
       "      <td>2020</td>\n",
       "      <td>873</td>\n",
       "      <td>383</td>\n",
       "      <td>34</td>\n",
       "    </tr>\n",
       "    <tr>\n",
       "      <th>5</th>\n",
       "      <td>2021</td>\n",
       "      <td>1010</td>\n",
       "      <td>437</td>\n",
       "      <td>34</td>\n",
       "    </tr>\n",
       "    <tr>\n",
       "      <th>6</th>\n",
       "      <td>2022</td>\n",
       "      <td>991</td>\n",
       "      <td>435</td>\n",
       "      <td>34</td>\n",
       "    </tr>\n",
       "  </tbody>\n",
       "</table>\n",
       "</div>"
      ],
      "text/plain": [
       "   psl_year  fours  sixes  matches\n",
       "0      2016    566    247       24\n",
       "1      2017    552    258       24\n",
       "2      2018    774    414       34\n",
       "3      2019    879    377       34\n",
       "4      2020    873    383       34\n",
       "5      2021   1010    437       34\n",
       "6      2022    991    435       34"
      ]
     },
     "execution_count": 8,
     "metadata": {},
     "output_type": "execute_result"
    }
   ],
   "source": [
    "boundries_df = df.groupby(['psl_year']).agg(\n",
    "    fours = ('is_four','sum'),\n",
    "    sixes = ('is_six','sum'),\n",
    "    matches = ('match_number','max')\n",
    "    \n",
    ")\n",
    "boundries_df = boundries_df.reset_index()\n",
    "boundries_df"
   ]
  },
  {
   "cell_type": "code",
   "execution_count": 9,
   "id": "solved-millennium",
   "metadata": {
    "execution": {
     "iopub.execute_input": "2021-06-25T21:17:03.829374Z",
     "iopub.status.busy": "2021-06-25T21:17:03.828798Z",
     "iopub.status.idle": "2021-06-25T21:17:04.018820Z",
     "shell.execute_reply": "2021-06-25T21:17:04.018350Z",
     "shell.execute_reply.started": "2021-06-05T14:30:41.716053Z"
    },
    "papermill": {
     "duration": 0.236117,
     "end_time": "2021-06-25T21:17:04.018959",
     "exception": false,
     "start_time": "2021-06-25T21:17:03.782842",
     "status": "completed"
    },
    "tags": []
   },
   "outputs": [
    {
     "data": {
      "image/png": "[encoded data removed]",
      "text/plain": [
       "<Figure size 640x480 with 1 Axes>"
      ]
     },
     "metadata": {},
     "output_type": "display_data"
    }
   ],
   "source": [
    "ax = boundries_df.plot('psl_year', 'fours', kind='bar')"
   ]
  },
  {
   "cell_type": "code",
   "execution_count": 10,
   "id": "crucial-horror",
   "metadata": {
    "execution": {
     "iopub.execute_input": "2021-06-25T21:17:04.128500Z",
     "iopub.status.busy": "2021-06-25T21:17:04.127899Z",
     "iopub.status.idle": "2021-06-25T21:17:04.263124Z",
     "shell.execute_reply": "2021-06-25T21:17:04.262494Z",
     "shell.execute_reply.started": "2021-06-05T14:30:41.903Z"
    },
    "papermill": {
     "duration": 0.19969,
     "end_time": "2021-06-25T21:17:04.263268",
     "exception": false,
     "start_time": "2021-06-25T21:17:04.063578",
     "status": "completed"
    },
    "tags": []
   },
   "outputs": [
    {
     "data": {
      "image/png": "[encoded data removed]",
      "text/plain": [
       "<Figure size 640x480 with 1 Axes>"
      ]
     },
     "metadata": {},
     "output_type": "display_data"
    }
   ],
   "source": [
    "ax = boundries_df.plot('psl_year', 'sixes', kind='bar')"
   ]
  },
  {
   "cell_type": "code",
   "execution_count": 11,
   "id": "victorian-intersection",
   "metadata": {
    "execution": {
     "iopub.execute_input": "2021-06-25T21:17:04.357798Z",
     "iopub.status.busy": "2021-06-25T21:17:04.357241Z",
     "iopub.status.idle": "2021-06-25T21:17:04.378432Z",
     "shell.execute_reply": "2021-06-25T21:17:04.377913Z",
     "shell.execute_reply.started": "2021-06-05T14:30:42.109175Z"
    },
    "papermill": {
     "duration": 0.07069,
     "end_time": "2021-06-25T21:17:04.378562",
     "exception": false,
     "start_time": "2021-06-25T21:17:04.307872",
     "status": "completed"
    },
    "tags": []
   },
   "outputs": [],
   "source": [
    "boundries_df['fours_per_match'] = boundries_df['fours']/boundries_df['matches']\n",
    "boundries_df['six_per_match'] = boundries_df['sixes']/boundries_df['matches']"
   ]
  },
  {
   "cell_type": "code",
   "execution_count": 12,
   "id": "unexpected-millennium",
   "metadata": {
    "execution": {
     "iopub.execute_input": "2021-06-25T21:17:04.493907Z",
     "iopub.status.busy": "2021-06-25T21:17:04.493344Z",
     "iopub.status.idle": "2021-06-25T21:17:04.617001Z",
     "shell.execute_reply": "2021-06-25T21:17:04.616565Z",
     "shell.execute_reply.started": "2021-06-05T14:30:42.117528Z"
    },
    "papermill": {
     "duration": 0.193649,
     "end_time": "2021-06-25T21:17:04.617149",
     "exception": false,
     "start_time": "2021-06-25T21:17:04.423500",
     "status": "completed"
    },
    "tags": []
   },
   "outputs": [
    {
     "data": {
      "image/png": "[encoded data removed]",
      "text/plain": [
       "<Figure size 640x480 with 1 Axes>"
      ]
     },
     "metadata": {},
     "output_type": "display_data"
    }
   ],
   "source": [
    "ax = boundries_df.plot('psl_year', 'fours_per_match', kind='bar')"
   ]
  },
  {
   "cell_type": "code",
   "execution_count": 13,
   "id": "speaking-doubt",
   "metadata": {
    "execution": {
     "iopub.execute_input": "2021-06-25T21:17:04.712429Z",
     "iopub.status.busy": "2021-06-25T21:17:04.711832Z",
     "iopub.status.idle": "2021-06-25T21:17:04.858795Z",
     "shell.execute_reply": "2021-06-25T21:17:04.858358Z",
     "shell.execute_reply.started": "2021-06-05T14:30:42.309644Z"
    },
    "papermill": {
     "duration": 0.196562,
     "end_time": "2021-06-25T21:17:04.858949",
     "exception": false,
     "start_time": "2021-06-25T21:17:04.662387",
     "status": "completed"
    },
    "tags": []
   },
   "outputs": [
    {
     "data": {
      "image/png": "[encoded data removed]",
      "text/plain": [
       "<Figure size 640x480 with 1 Axes>"
      ]
     },
     "metadata": {},
     "output_type": "display_data"
    }
   ],
   "source": [
    "ax = boundries_df.plot('psl_year', 'six_per_match', kind='bar')"
   ]
  },
  {
   "cell_type": "markdown",
   "id": "crazy-soviet",
   "metadata": {
    "papermill": {
     "duration": 0.045495,
     "end_time": "2021-06-25T21:17:04.950332",
     "exception": false,
     "start_time": "2021-06-25T21:17:04.904837",
     "status": "completed"
    },
    "tags": []
   },
   "source": [
    "#### In this section we found the following insights:\n",
    "- Most fours and fours per match were scored in 2019.\n",
    "- Most sixes and sixes per match were scored in 2018."
   ]
  },
  {
   "cell_type": "markdown",
   "id": "afraid-thompson",
   "metadata": {
    "papermill": {
     "duration": 0.04706,
     "end_time": "2021-06-25T21:17:05.043479",
     "exception": false,
     "start_time": "2021-06-25T21:17:04.996419",
     "status": "completed"
    },
    "tags": []
   },
   "source": [
    "# Wickets"
   ]
  },
  {
   "cell_type": "code",
   "execution_count": 14,
   "id": "active-perception",
   "metadata": {
    "execution": {
     "iopub.execute_input": "2021-06-25T21:17:05.147098Z",
     "iopub.status.busy": "2021-06-25T21:17:05.146494Z",
     "iopub.status.idle": "2021-06-25T21:17:05.150313Z",
     "shell.execute_reply": "2021-06-25T21:17:05.149866Z",
     "shell.execute_reply.started": "2021-06-05T14:30:42.496221Z"
    },
    "papermill": {
     "duration": 0.060423,
     "end_time": "2021-06-25T21:17:05.150445",
     "exception": false,
     "start_time": "2021-06-25T21:17:05.090022",
     "status": "completed"
    },
    "tags": []
   },
   "outputs": [
    {
     "data": {
      "text/plain": [
       "{'caught': 1669, 'bowled': 496, 'run out': 225, 'lbw': 201, 'others': 59}"
      ]
     },
     "execution_count": 14,
     "metadata": {},
     "output_type": "execute_result"
    }
   ],
   "source": [
    "wickets = df['wicket_text'].value_counts()\n",
    "wicket_dict = dict(wickets)\n",
    "del_keys = []\n",
    "others = 0\n",
    "for key, value in wicket_dict.items():\n",
    "    if value <100:\n",
    "        others = others+value\n",
    "        del_keys.append(key)\n",
    "for del_key in del_keys:\n",
    "    del(wicket_dict[del_key])\n",
    "wicket_dict['others']= others\n",
    "wicket_dict"
   ]
  },
  {
   "cell_type": "code",
   "execution_count": 15,
   "id": "prostate-debut",
   "metadata": {
    "execution": {
     "iopub.execute_input": "2021-06-25T21:17:05.406693Z",
     "iopub.status.busy": "2021-06-25T21:17:05.396710Z",
     "iopub.status.idle": "2021-06-25T21:17:05.518472Z",
     "shell.execute_reply": "2021-06-25T21:17:05.518908Z",
     "shell.execute_reply.started": "2021-06-05T14:30:42.510348Z"
    },
    "papermill": {
     "duration": 0.322679,
     "end_time": "2021-06-25T21:17:05.519087",
     "exception": false,
     "start_time": "2021-06-25T21:17:05.196408",
     "status": "completed"
    },
    "tags": []
   },
   "outputs": [
    {
     "data": {
      "text/plain": [
       "<BarContainer object of 5 artists>"
      ]
     },
     "execution_count": 15,
     "metadata": {},
     "output_type": "execute_result"
    },
    {
     "data": {
      "image/png": "[encoded data removed]",
      "text/plain": [
       "<Figure size 640x480 with 1 Axes>"
      ]
     },
     "metadata": {},
     "output_type": "display_data"
    }
   ],
   "source": [
    "plt.bar(*zip(*wicket_dict.items()))"
   ]
  },
  {
   "cell_type": "markdown",
   "id": "popular-gallery",
   "metadata": {
    "papermill": {
     "duration": 0.046789,
     "end_time": "2021-06-25T21:17:05.612518",
     "exception": false,
     "start_time": "2021-06-25T21:17:05.565729",
     "status": "completed"
    },
    "tags": []
   },
   "source": [
    "#### Here, we found an interesting fact that most of the players lost their wickets by getting caught."
   ]
  },
  {
   "cell_type": "markdown",
   "id": "animal-rouge",
   "metadata": {
    "papermill": {
     "duration": 0.046638,
     "end_time": "2021-06-25T21:17:05.705855",
     "exception": false,
     "start_time": "2021-06-25T21:17:05.659217",
     "status": "completed"
    },
    "tags": []
   },
   "source": [
    "# Team Based Dataframes"
   ]
  },
  {
   "cell_type": "code",
   "execution_count": 16,
   "id": "african-failing",
   "metadata": {
    "execution": {
     "iopub.execute_input": "2021-06-25T21:17:05.814214Z",
     "iopub.status.busy": "2021-06-25T21:17:05.813554Z",
     "iopub.status.idle": "2021-06-25T21:17:05.851023Z",
     "shell.execute_reply": "2021-06-25T21:17:05.851478Z",
     "shell.execute_reply.started": "2021-06-05T14:30:42.673909Z"
    },
    "papermill": {
     "duration": 0.09911,
     "end_time": "2021-06-25T21:17:05.851655",
     "exception": false,
     "start_time": "2021-06-25T21:17:05.752545",
     "status": "completed"
    },
    "tags": []
   },
   "outputs": [],
   "source": [
    "teams_df = {'Quetta' : df.loc[((df['team_1'] == \"Quetta Gladiators\") & (df['inning'] == 1)) | ((df['team_2'] == \"Quetta Gladiators\") & (df['inning'] == 2))],\n",
    "'Lahore' : df.loc[((df['team_1'] == \"Lahore Qalandars\") & (df['inning'] == 1)) | ((df['team_2'] == \"Lahore Qalandars\") & (df['inning'] == 2))],\n",
    "'Islamabad' : df.loc[((df['team_1'] == \"Islamabad United\") & (df['inning'] == 1)) | ((df['team_2'] == \"Islamabad United\") & (df['inning'] == 2))],\n",
    "'Peshawar' : df.loc[((df['team_1'] == \"Peshawar Zalmi\") & (df['inning'] == 1)) | ((df['team_2'] == \"Peshawar Zalmi\") & (df['inning'] == 2))],\n",
    "'Multan' : df.loc[((df['team_1'] == \"Multan Sultans\") & (df['inning'] == 1)) | ((df['team_2'] == \"Multan Sultans\") & (df['inning'] == 2))],\n",
    "'Karachi' : df.loc[((df['team_1'] == \"Karachi Kings\") & (df['inning'] == 1)) | ((df['team_2'] == \"Karachi Kings\") & (df['inning'] == 2))]\n",
    "}"
   ]
  },
  {
   "cell_type": "markdown",
   "id": "naval-taste",
   "metadata": {
    "papermill": {
     "duration": 0.046501,
     "end_time": "2021-06-25T21:17:05.945799",
     "exception": false,
     "start_time": "2021-06-25T21:17:05.899298",
     "status": "completed"
    },
    "tags": []
   },
   "source": [
    "# Team Based Runs"
   ]
  },
  {
   "cell_type": "code",
   "execution_count": 17,
   "id": "postal-grain",
   "metadata": {
    "execution": {
     "iopub.execute_input": "2021-06-25T21:17:06.045791Z",
     "iopub.status.busy": "2021-06-25T21:17:06.045158Z",
     "iopub.status.idle": "2021-06-25T21:17:06.056398Z",
     "shell.execute_reply": "2021-06-25T21:17:06.055873Z",
     "shell.execute_reply.started": "2021-06-05T14:30:42.917062Z"
    },
    "papermill": {
     "duration": 0.064149,
     "end_time": "2021-06-25T21:17:06.056538",
     "exception": false,
     "start_time": "2021-06-25T21:17:05.992389",
     "status": "completed"
    },
    "tags": []
   },
   "outputs": [],
   "source": [
    "team_runs = {}\n",
    "for team_name, value in teams_df.items():\n",
    "    team_runs[team_name] = value['runs'].sum()\n",
    "team_matches = {}\n",
    "for team_name , value in teams_df.items():\n",
    "    team_matches[team_name] = value.groupby(['psl_year', 'match_number']).ngroups"
   ]
  },
  {
   "cell_type": "code",
   "execution_count": 18,
   "id": "mineral-rabbit",
   "metadata": {
    "execution": {
     "iopub.execute_input": "2021-06-25T21:17:06.174463Z",
     "iopub.status.busy": "2021-06-25T21:17:06.172364Z",
     "iopub.status.idle": "2021-06-25T21:17:06.284635Z",
     "shell.execute_reply": "2021-06-25T21:17:06.284148Z",
     "shell.execute_reply.started": "2021-06-05T14:30:42.935542Z"
    },
    "papermill": {
     "duration": 0.18147,
     "end_time": "2021-06-25T21:17:06.284767",
     "exception": false,
     "start_time": "2021-06-25T21:17:06.103297",
     "status": "completed"
    },
    "tags": []
   },
   "outputs": [
    {
     "data": {
      "text/plain": [
       "<BarContainer object of 6 artists>"
      ]
     },
     "execution_count": 18,
     "metadata": {},
     "output_type": "execute_result"
    },
    {
     "data": {
      "image/png": "[encoded data removed]",
      "text/plain": [
       "<Figure size 640x480 with 1 Axes>"
      ]
     },
     "metadata": {},
     "output_type": "display_data"
    }
   ],
   "source": [
    "plt.bar(*zip(*team_runs.items()))"
   ]
  },
  {
   "cell_type": "markdown",
   "id": "ultimate-supplier",
   "metadata": {
    "papermill": {
     "duration": 0.04778,
     "end_time": "2021-06-25T21:17:06.380369",
     "exception": false,
     "start_time": "2021-06-25T21:17:06.332589",
     "status": "completed"
    },
    "tags": []
   },
   "source": [
    "#### Among all the teams Peshawar scored the most runs, followed by Islamabad United."
   ]
  },
  {
   "cell_type": "markdown",
   "id": "resident-reconstruction",
   "metadata": {
    "papermill": {
     "duration": 0.047909,
     "end_time": "2021-06-25T21:17:06.476380",
     "exception": false,
     "start_time": "2021-06-25T21:17:06.428471",
     "status": "completed"
    },
    "tags": []
   },
   "source": [
    "# Team Based Percentage Runs in Boundaries"
   ]
  },
  {
   "cell_type": "code",
   "execution_count": 19,
   "id": "liberal-lightweight",
   "metadata": {
    "execution": {
     "iopub.execute_input": "2021-06-25T21:17:06.580287Z",
     "iopub.status.busy": "2021-06-25T21:17:06.579372Z",
     "iopub.status.idle": "2021-06-25T21:17:06.582420Z",
     "shell.execute_reply": "2021-06-25T21:17:06.581975Z",
     "shell.execute_reply.started": "2021-06-05T14:30:43.096296Z"
    },
    "papermill": {
     "duration": 0.058338,
     "end_time": "2021-06-25T21:17:06.582550",
     "exception": false,
     "start_time": "2021-06-25T21:17:06.524212",
     "status": "completed"
    },
    "tags": []
   },
   "outputs": [],
   "source": [
    "team_boundry_runs = {}\n",
    "for team_name, value in teams_df.items():\n",
    "    sixes = value['is_six'].sum()\n",
    "    fours = value['is_four'].sum()\n",
    "    team_boundry_runs[team_name]= (sixes*6)+(fours*4)\n",
    "\n",
    "boundry_run_percentage = {}\n",
    "for team, runs in team_runs.items():\n",
    "#     print (f\"{team} scored {(team_boundry_runs[team]/runs)*100}% runs in boundries\")\n",
    "    boundry_run_percentage[team] = (team_boundry_runs[team]/runs)*100"
   ]
  },
  {
   "cell_type": "code",
   "execution_count": 20,
   "id": "aggressive-reader",
   "metadata": {
    "execution": {
     "iopub.execute_input": "2021-06-25T21:17:06.701553Z",
     "iopub.status.busy": "2021-06-25T21:17:06.699517Z",
     "iopub.status.idle": "2021-06-25T21:17:06.818252Z",
     "shell.execute_reply": "2021-06-25T21:17:06.817643Z",
     "shell.execute_reply.started": "2021-06-05T14:30:43.105866Z"
    },
    "papermill": {
     "duration": 0.188358,
     "end_time": "2021-06-25T21:17:06.818390",
     "exception": false,
     "start_time": "2021-06-25T21:17:06.630032",
     "status": "completed"
    },
    "tags": []
   },
   "outputs": [
    {
     "data": {
      "text/plain": [
       "<BarContainer object of 6 artists>"
      ]
     },
     "execution_count": 20,
     "metadata": {},
     "output_type": "execute_result"
    },
    {
     "data": {
      "image/png": "[encoded data removed]",
      "text/plain": [
       "<Figure size 640x480 with 1 Axes>"
      ]
     },
     "metadata": {},
     "output_type": "display_data"
    }
   ],
   "source": [
    "plt.bar(*zip(*boundry_run_percentage.items()))"
   ]
  },
  {
   "cell_type": "markdown",
   "id": "fabulous-bobby",
   "metadata": {
    "papermill": {
     "duration": 0.04857,
     "end_time": "2021-06-25T21:17:06.916573",
     "exception": false,
     "start_time": "2021-06-25T21:17:06.868003",
     "status": "completed"
    },
    "tags": []
   },
   "source": [
    "#### This bar chart shows that Islamabad United dealt more in boundaries to score the runs."
   ]
  },
  {
   "cell_type": "markdown",
   "id": "linear-nickel",
   "metadata": {
    "papermill": {
     "duration": 0.049247,
     "end_time": "2021-06-25T21:17:07.014767",
     "exception": false,
     "start_time": "2021-06-25T21:17:06.965520",
     "status": "completed"
    },
    "tags": []
   },
   "source": [
    "# Dot Balls Played"
   ]
  },
  {
   "cell_type": "code",
   "execution_count": 21,
   "id": "alpine-excitement",
   "metadata": {
    "execution": {
     "iopub.execute_input": "2021-06-25T21:17:07.119667Z",
     "iopub.status.busy": "2021-06-25T21:17:07.118702Z",
     "iopub.status.idle": "2021-06-25T21:17:07.127612Z",
     "shell.execute_reply": "2021-06-25T21:17:07.128016Z",
     "shell.execute_reply.started": "2021-06-05T14:30:43.276788Z"
    },
    "papermill": {
     "duration": 0.064663,
     "end_time": "2021-06-25T21:17:07.128205",
     "exception": false,
     "start_time": "2021-06-25T21:17:07.063542",
     "status": "completed"
    },
    "tags": []
   },
   "outputs": [],
   "source": [
    "dot_balls_played = {}\n",
    "total_balls_played = {}\n",
    "for team, value in teams_df.items():\n",
    "    dot_balls_played[team]=value[value['runs']==0].shape[0]\n",
    "    total_balls_played[team]= value.shape[0]\n",
    "\n",
    "dot_ball_percentage ={}\n",
    "for team , value in dot_balls_played.items():\n",
    "    dot_ball_percentage[team] = (value/total_balls_played[team])*100\n"
   ]
  },
  {
   "cell_type": "code",
   "execution_count": 20,
   "id": "premier-center",
   "metadata": {
    "execution": {
     "iopub.execute_input": "2021-06-25T21:17:07.245202Z",
     "iopub.status.busy": "2021-06-25T21:17:07.244594Z",
     "iopub.status.idle": "2021-06-25T21:17:07.368664Z",
     "shell.execute_reply": "2021-06-25T21:17:07.368144Z",
     "shell.execute_reply.started": "2021-06-05T14:30:43.292265Z"
    },
    "papermill": {
     "duration": 0.19166,
     "end_time": "2021-06-25T21:17:07.368791",
     "exception": false,
     "start_time": "2021-06-25T21:17:07.177131",
     "status": "completed"
    },
    "tags": []
   },
   "outputs": [
    {
     "data": {
      "text/plain": [
       "<BarContainer object of 6 artists>"
      ]
     },
     "execution_count": 20,
     "metadata": {},
     "output_type": "execute_result"
    },
    {
     "data": {
      "image/png": "[encoded data removed]",
      "text/plain": [
       "<Figure size 432x288 with 1 Axes>"
      ]
     },
     "metadata": {},
     "output_type": "display_data"
    }
   ],
   "source": [
    "plt.bar(*zip(*dot_ball_percentage.items()))"
   ]
  },
  {
   "cell_type": "markdown",
   "id": "returning-little",
   "metadata": {
    "papermill": {
     "duration": 0.048833,
     "end_time": "2021-06-25T21:17:07.468107",
     "exception": false,
     "start_time": "2021-06-25T21:17:07.419274",
     "status": "completed"
    },
    "tags": []
   },
   "source": [
    "#### Here, it shows that Lahore Qalanders played the most Dot balls."
   ]
  },
  {
   "cell_type": "markdown",
   "id": "convertible-malta",
   "metadata": {
    "papermill": {
     "duration": 0.048849,
     "end_time": "2021-06-25T21:17:07.567262",
     "exception": false,
     "start_time": "2021-06-25T21:17:07.518413",
     "status": "completed"
    },
    "tags": []
   },
   "source": [
    "# Six Hit Per Team"
   ]
  },
  {
   "cell_type": "code",
   "execution_count": 22,
   "id": "apart-assist",
   "metadata": {
    "execution": {
     "iopub.execute_input": "2021-06-25T21:17:07.700492Z",
     "iopub.status.busy": "2021-06-25T21:17:07.698840Z",
     "iopub.status.idle": "2021-06-25T21:17:07.812228Z",
     "shell.execute_reply": "2021-06-25T21:17:07.812632Z",
     "shell.execute_reply.started": "2021-06-05T14:30:43.467422Z"
    },
    "papermill": {
     "duration": 0.196028,
     "end_time": "2021-06-25T21:17:07.812798",
     "exception": false,
     "start_time": "2021-06-25T21:17:07.616770",
     "status": "completed"
    },
    "tags": []
   },
   "outputs": [
    {
     "data": {
      "text/plain": [
       "<BarContainer object of 6 artists>"
      ]
     },
     "execution_count": 22,
     "metadata": {},
     "output_type": "execute_result"
    },
    {
     "data": {
      "image/png": "[encoded data removed]",
      "text/plain": [
       "<Figure size 640x480 with 1 Axes>"
      ]
     },
     "metadata": {},
     "output_type": "display_data"
    }
   ],
   "source": [
    "six_per_team = {}\n",
    "for team, value in teams_df.items():\n",
    "    six_per_team[team] = value['is_six'].sum()\n",
    "\n",
    "six_per_match ={}\n",
    "for team ,value in six_per_team.items():\n",
    "    six_per_match[team] = value/team_matches[team]\n",
    "\n",
    "plt.bar(*zip(*six_per_match.items()))"
   ]
  },
  {
   "cell_type": "markdown",
   "id": "unauthorized-blade",
   "metadata": {
    "papermill": {
     "duration": 0.050001,
     "end_time": "2021-06-25T21:17:07.913627",
     "exception": false,
     "start_time": "2021-06-25T21:17:07.863626",
     "status": "completed"
    },
    "tags": []
   },
   "source": [
    "#### Talking about sixes hit by the teams, Islamabad United placed the most sixes per match."
   ]
  },
  {
   "cell_type": "code",
   "execution_count": 23,
   "id": "varying-omega",
   "metadata": {
    "execution": {
     "iopub.execute_input": "2021-06-25T21:17:08.017514Z",
     "iopub.status.busy": "2021-06-25T21:17:08.016579Z",
     "iopub.status.idle": "2021-06-25T21:17:08.156723Z",
     "shell.execute_reply": "2021-06-25T21:17:08.157126Z",
     "shell.execute_reply.started": "2021-06-05T14:30:43.638002Z"
    },
    "papermill": {
     "duration": 0.19361,
     "end_time": "2021-06-25T21:17:08.157307",
     "exception": false,
     "start_time": "2021-06-25T21:17:07.963697",
     "status": "completed"
    },
    "tags": []
   },
   "outputs": [
    {
     "data": {
      "text/plain": [
       "<BarContainer object of 6 artists>"
      ]
     },
     "execution_count": 23,
     "metadata": {},
     "output_type": "execute_result"
    },
    {
     "data": {
      "image/png": "[encoded data removed]",
      "text/plain": [
       "<Figure size 640x480 with 1 Axes>"
      ]
     },
     "metadata": {},
     "output_type": "display_data"
    }
   ],
   "source": [
    "plt.bar(*zip(*six_per_team.items()))"
   ]
  },
  {
   "cell_type": "markdown",
   "id": "flying-handbook",
   "metadata": {
    "papermill": {
     "duration": 0.050231,
     "end_time": "2021-06-25T21:17:08.258110",
     "exception": false,
     "start_time": "2021-06-25T21:17:08.207879",
     "status": "completed"
    },
    "tags": []
   },
   "source": [
    "#### Talking about sixes hit by the teams, Peshawar Zalmi placed the most sixes per team."
   ]
  },
  {
   "cell_type": "markdown",
   "id": "welsh-degree",
   "metadata": {
    "papermill": {
     "duration": 0.050125,
     "end_time": "2021-06-25T21:17:08.358673",
     "exception": false,
     "start_time": "2021-06-25T21:17:08.308548",
     "status": "completed"
    },
    "tags": []
   },
   "source": [
    "# Four Hit Per Team"
   ]
  },
  {
   "cell_type": "code",
   "execution_count": 24,
   "id": "southeast-fisher",
   "metadata": {
    "execution": {
     "iopub.execute_input": "2021-06-25T21:17:08.462878Z",
     "iopub.status.busy": "2021-06-25T21:17:08.461967Z",
     "iopub.status.idle": "2021-06-25T21:17:08.594559Z",
     "shell.execute_reply": "2021-06-25T21:17:08.594935Z",
     "shell.execute_reply.started": "2021-06-05T14:30:43.81078Z"
    },
    "papermill": {
     "duration": 0.186186,
     "end_time": "2021-06-25T21:17:08.595119",
     "exception": false,
     "start_time": "2021-06-25T21:17:08.408933",
     "status": "completed"
    },
    "tags": []
   },
   "outputs": [
    {
     "data": {
      "text/plain": [
       "<BarContainer object of 6 artists>"
      ]
     },
     "execution_count": 24,
     "metadata": {},
     "output_type": "execute_result"
    },
    {
     "data": {
      "image/png": "[encoded data removed]",
      "text/plain": [
       "<Figure size 640x480 with 1 Axes>"
      ]
     },
     "metadata": {},
     "output_type": "display_data"
    }
   ],
   "source": [
    "four_per_team = {}\n",
    "for team, value in teams_df.items():\n",
    "    four_per_team[team] = value['is_four'].sum()\n",
    "\n",
    "four_per_match ={}\n",
    "for team ,value in four_per_team.items():\n",
    "    four_per_match[team] = value/team_matches[team]\n",
    "\n",
    "plt.bar(*zip(*four_per_match.items()))"
   ]
  },
  {
   "cell_type": "markdown",
   "id": "sharp-diesel",
   "metadata": {
    "papermill": {
     "duration": 0.050893,
     "end_time": "2021-06-25T21:17:08.697303",
     "exception": false,
     "start_time": "2021-06-25T21:17:08.646410",
     "status": "completed"
    },
    "tags": []
   },
   "source": [
    "#### It seems a coincidence that all the teams scored almost similar number of fours per match."
   ]
  },
  {
   "cell_type": "markdown",
   "id": "individual-dakota",
   "metadata": {
    "papermill": {
     "duration": 0.051102,
     "end_time": "2021-06-25T21:17:08.799551",
     "exception": false,
     "start_time": "2021-06-25T21:17:08.748449",
     "status": "completed"
    },
    "tags": []
   },
   "source": [
    "# Runs Scored Per Team"
   ]
  },
  {
   "cell_type": "code",
   "execution_count": 25,
   "id": "sufficient-vatican",
   "metadata": {
    "execution": {
     "iopub.execute_input": "2021-06-25T21:17:08.907905Z",
     "iopub.status.busy": "2021-06-25T21:17:08.907031Z",
     "iopub.status.idle": "2021-06-25T21:17:09.047408Z",
     "shell.execute_reply": "2021-06-25T21:17:09.047801Z",
     "shell.execute_reply.started": "2021-06-05T14:30:43.984269Z"
    },
    "papermill": {
     "duration": 0.195748,
     "end_time": "2021-06-25T21:17:09.047972",
     "exception": false,
     "start_time": "2021-06-25T21:17:08.852224",
     "status": "completed"
    },
    "tags": []
   },
   "outputs": [
    {
     "data": {
      "text/plain": [
       "<BarContainer object of 6 artists>"
      ]
     },
     "execution_count": 25,
     "metadata": {},
     "output_type": "execute_result"
    },
    {
     "data": {
      "image/png": "[encoded data removed]",
      "text/plain": [
       "<Figure size 640x480 with 1 Axes>"
      ]
     },
     "metadata": {},
     "output_type": "display_data"
    }
   ],
   "source": [
    "runs_per_team = {}\n",
    "for team, value in teams_df.items():\n",
    "    runs_per_team[team] = value['runs'].sum()\n",
    "\n",
    "runs_per_match ={}\n",
    "for team ,value in runs_per_team.items():\n",
    "    runs_per_match[team] = value/team_matches[team]\n",
    "\n",
    "plt.bar(*zip(*runs_per_match.items()))"
   ]
  },
  {
   "cell_type": "markdown",
   "id": "english-today",
   "metadata": {
    "papermill": {
     "duration": 0.053332,
     "end_time": "2021-06-25T21:17:09.153922",
     "exception": false,
     "start_time": "2021-06-25T21:17:09.100590",
     "status": "completed"
    },
    "tags": []
   },
   "source": [
    "#### Here, again it seems that all the teams scored almost similar number of runs per match."
   ]
  },
  {
   "cell_type": "markdown",
   "id": "collectible-bread",
   "metadata": {
    "papermill": {
     "duration": 0.058189,
     "end_time": "2021-06-25T21:17:09.265006",
     "exception": false,
     "start_time": "2021-06-25T21:17:09.206817",
     "status": "completed"
    },
    "tags": []
   },
   "source": [
    "# Wickets Per Team"
   ]
  },
  {
   "cell_type": "code",
   "execution_count": 26,
   "id": "fifth-antarctica",
   "metadata": {
    "execution": {
     "iopub.execute_input": "2021-06-25T21:17:09.388903Z",
     "iopub.status.busy": "2021-06-25T21:17:09.388293Z",
     "iopub.status.idle": "2021-06-25T21:17:09.511129Z",
     "shell.execute_reply": "2021-06-25T21:17:09.511558Z",
     "shell.execute_reply.started": "2021-06-05T14:30:44.165358Z"
    },
    "papermill": {
     "duration": 0.194436,
     "end_time": "2021-06-25T21:17:09.511721",
     "exception": false,
     "start_time": "2021-06-25T21:17:09.317285",
     "status": "completed"
    },
    "tags": []
   },
   "outputs": [
    {
     "data": {
      "text/plain": [
       "<BarContainer object of 6 artists>"
      ]
     },
     "execution_count": 26,
     "metadata": {},
     "output_type": "execute_result"
    },
    {
     "data": {
      "image/png": "[encoded data removed]",
      "text/plain": [
       "<Figure size 640x480 with 1 Axes>"
      ]
     },
     "metadata": {},
     "output_type": "display_data"
    }
   ],
   "source": [
    "wickets_per_team = {}\n",
    "for team, value in teams_df.items():\n",
    "    wickets_per_team[team] = value['is_wicket'].sum()\n",
    "\n",
    "wickets_per_match ={}\n",
    "for team ,value in wickets_per_team.items():\n",
    "    wickets_per_match[team] = value/team_matches[team]\n",
    "\n",
    "plt.bar(*zip(*wickets_per_team.items()))"
   ]
  },
  {
   "cell_type": "markdown",
   "id": "posted-cream",
   "metadata": {
    "papermill": {
     "duration": 0.053073,
     "end_time": "2021-06-25T21:17:09.618891",
     "exception": false,
     "start_time": "2021-06-25T21:17:09.565818",
     "status": "completed"
    },
    "tags": []
   },
   "source": [
    "#### The above barchart shows that, Peshawar Zalmi had the most wickets being fallen per team."
   ]
  },
  {
   "cell_type": "code",
   "execution_count": 27,
   "id": "similar-remove",
   "metadata": {
    "execution": {
     "iopub.execute_input": "2021-06-25T21:17:09.743186Z",
     "iopub.status.busy": "2021-06-25T21:17:09.742584Z",
     "iopub.status.idle": "2021-06-25T21:17:09.858581Z",
     "shell.execute_reply": "2021-06-25T21:17:09.859044Z",
     "shell.execute_reply.started": "2021-06-05T14:30:44.343767Z"
    },
    "papermill": {
     "duration": 0.186742,
     "end_time": "2021-06-25T21:17:09.859225",
     "exception": false,
     "start_time": "2021-06-25T21:17:09.672483",
     "status": "completed"
    },
    "tags": []
   },
   "outputs": [
    {
     "data": {
      "text/plain": [
       "<BarContainer object of 6 artists>"
      ]
     },
     "execution_count": 27,
     "metadata": {},
     "output_type": "execute_result"
    },
    {
     "data": {
      "image/png": "[encoded data removed]",
      "text/plain": [
       "<Figure size 640x480 with 1 Axes>"
      ]
     },
     "metadata": {},
     "output_type": "display_data"
    }
   ],
   "source": [
    "plt.bar(*zip(*wickets_per_match.items()))"
   ]
  },
  {
   "cell_type": "markdown",
   "id": "russian-antigua",
   "metadata": {
    "papermill": {
     "duration": 0.054387,
     "end_time": "2021-06-25T21:17:09.967784",
     "exception": false,
     "start_time": "2021-06-25T21:17:09.913397",
     "status": "completed"
    },
    "tags": []
   },
   "source": [
    "#### Her the above barchart shows that, Lahore Qalanders had the most wickets being fallen per match."
   ]
  },
  {
   "cell_type": "markdown",
   "id": "single-terrorist",
   "metadata": {
    "papermill": {
     "duration": 0.053927,
     "end_time": "2021-06-25T21:17:10.076066",
     "exception": false,
     "start_time": "2021-06-25T21:17:10.022139",
     "status": "completed"
    },
    "tags": []
   },
   "source": [
    "# Defining Functions to bulit Prediction Model"
   ]
  },
  {
   "cell_type": "code",
   "execution_count": 28,
   "id": "sharing-coverage",
   "metadata": {
    "execution": {
     "iopub.execute_input": "2021-06-25T21:17:10.188235Z",
     "iopub.status.busy": "2021-06-25T21:17:10.187650Z",
     "iopub.status.idle": "2021-06-25T21:17:10.191778Z",
     "shell.execute_reply": "2021-06-25T21:17:10.192307Z",
     "shell.execute_reply.started": "2021-06-05T14:30:44.511832Z"
    },
    "papermill": {
     "duration": 0.061573,
     "end_time": "2021-06-25T21:17:10.192467",
     "exception": false,
     "start_time": "2021-06-25T21:17:10.130894",
     "status": "completed"
    },
    "tags": []
   },
   "outputs": [],
   "source": [
    "# Method to calculate if the team batting second won or not\n",
    "def is_winner(row):\n",
    "    if type(row['result']) == str:\n",
    "        if row['result'] in row['team_2']:\n",
    "            return 1\n",
    "        return 0\n",
    "    else:\n",
    "        return 0"
   ]
  },
  {
   "cell_type": "code",
   "execution_count": 29,
   "id": "mechanical-label",
   "metadata": {
    "execution": {
     "iopub.execute_input": "2021-06-25T21:17:10.304324Z",
     "iopub.status.busy": "2021-06-25T21:17:10.303576Z",
     "iopub.status.idle": "2021-06-25T21:17:10.307285Z",
     "shell.execute_reply": "2021-06-25T21:17:10.307764Z",
     "shell.execute_reply.started": "2021-06-05T14:30:44.524063Z"
    },
    "papermill": {
     "duration": 0.061193,
     "end_time": "2021-06-25T21:17:10.307927",
     "exception": false,
     "start_time": "2021-06-25T21:17:10.246734",
     "status": "completed"
    },
    "tags": []
   },
   "outputs": [],
   "source": [
    "# Method to calculate if a player was dismissed on this ball or not\n",
    "def is_out(row):\n",
    "    if type(row['player_dismissed']) == str:\n",
    "        return 1\n",
    "    else:\n",
    "        return 0"
   ]
  },
  {
   "cell_type": "markdown",
   "id": "mathematical-console",
   "metadata": {
    "papermill": {
     "duration": 0.05397,
     "end_time": "2021-06-25T21:17:10.415742",
     "exception": false,
     "start_time": "2021-06-25T21:17:10.361772",
     "status": "completed"
    },
    "tags": []
   },
   "source": [
    "# Data Manipulation to Extract Important Features"
   ]
  },
  {
   "cell_type": "code",
   "execution_count": 30,
   "id": "located-answer",
   "metadata": {
    "execution": {
     "iopub.execute_input": "2021-06-25T21:17:10.529191Z",
     "iopub.status.busy": "2021-06-25T21:17:10.528546Z",
     "iopub.status.idle": "2021-06-25T21:17:10.537912Z",
     "shell.execute_reply": "2021-06-25T21:17:10.537405Z",
     "shell.execute_reply.started": "2021-06-05T14:30:44.533829Z"
    },
    "papermill": {
     "duration": 0.068048,
     "end_time": "2021-06-25T21:17:10.538059",
     "exception": false,
     "start_time": "2021-06-25T21:17:10.470011",
     "status": "completed"
    },
    "tags": []
   },
   "outputs": [],
   "source": [
    "# Splitting on Innings\n",
    "first_inning = df[df['inning']==1]\n",
    "second_inning = df[df['inning']==2]"
   ]
  },
  {
   "cell_type": "code",
   "execution_count": 31,
   "id": "skilled-privilege",
   "metadata": {
    "execution": {
     "iopub.execute_input": "2021-06-25T21:17:10.654624Z",
     "iopub.status.busy": "2021-06-25T21:17:10.653496Z",
     "iopub.status.idle": "2021-06-25T21:17:10.664496Z",
     "shell.execute_reply": "2021-06-25T21:17:10.663995Z",
     "shell.execute_reply.started": "2021-06-05T14:30:44.555835Z"
    },
    "papermill": {
     "duration": 0.071352,
     "end_time": "2021-06-25T21:17:10.664621",
     "exception": false,
     "start_time": "2021-06-25T21:17:10.593269",
     "status": "completed"
    },
    "tags": []
   },
   "outputs": [],
   "source": [
    "# Calculating Target\n",
    "total_sum = first_inning.groupby([\"psl_year\",\"match_number\"]).agg(\n",
    "   target= (\"runs\",\"sum\")\n",
    ")"
   ]
  },
  {
   "cell_type": "code",
   "execution_count": 32,
   "id": "hawaiian-dancing",
   "metadata": {
    "execution": {
     "iopub.execute_input": "2021-06-25T21:17:10.778654Z",
     "iopub.status.busy": "2021-06-25T21:17:10.778089Z",
     "iopub.status.idle": "2021-06-25T21:17:10.781377Z",
     "shell.execute_reply": "2021-06-25T21:17:10.780899Z",
     "shell.execute_reply.started": "2021-06-05T14:30:44.574368Z"
    },
    "papermill": {
     "duration": 0.062947,
     "end_time": "2021-06-25T21:17:10.781505",
     "exception": false,
     "start_time": "2021-06-25T21:17:10.718558",
     "status": "completed"
    },
    "tags": []
   },
   "outputs": [],
   "source": [
    "total_sum = total_sum.reset_index()"
   ]
  },
  {
   "cell_type": "code",
   "execution_count": 33,
   "id": "divided-pressing",
   "metadata": {
    "execution": {
     "iopub.execute_input": "2021-06-25T21:17:10.896264Z",
     "iopub.status.busy": "2021-06-25T21:17:10.895331Z",
     "iopub.status.idle": "2021-06-25T21:17:10.916059Z",
     "shell.execute_reply": "2021-06-25T21:17:10.915440Z",
     "shell.execute_reply.started": "2021-06-05T14:30:44.582044Z"
    },
    "papermill": {
     "duration": 0.080603,
     "end_time": "2021-06-25T21:17:10.916213",
     "exception": false,
     "start_time": "2021-06-25T21:17:10.835610",
     "status": "completed"
    },
    "tags": []
   },
   "outputs": [],
   "source": [
    "# Merging the DF\n",
    "new_df = pd.merge(total_sum, second_inning,  how='left', left_on=['psl_year','match_number'], right_on = ['psl_year','match_number'])"
   ]
  },
  {
   "cell_type": "code",
   "execution_count": 34,
   "id": "biological-twins",
   "metadata": {
    "execution": {
     "iopub.execute_input": "2021-06-25T21:17:11.032006Z",
     "iopub.status.busy": "2021-06-25T21:17:11.031004Z",
     "iopub.status.idle": "2021-06-25T21:17:11.273126Z",
     "shell.execute_reply": "2021-06-25T21:17:11.272605Z",
     "shell.execute_reply.started": "2021-06-05T14:30:44.610085Z"
    },
    "papermill": {
     "duration": 0.302069,
     "end_time": "2021-06-25T21:17:11.273260",
     "exception": false,
     "start_time": "2021-06-25T21:17:10.971191",
     "status": "completed"
    },
    "tags": []
   },
   "outputs": [],
   "source": [
    "# Calculating if Second Inning team won or not \n",
    "new_df['won'] = new_df.apply(is_winner, axis=1)"
   ]
  },
  {
   "cell_type": "code",
   "execution_count": 35,
   "id": "devoted-retirement",
   "metadata": {
    "execution": {
     "iopub.execute_input": "2021-06-25T21:17:11.386269Z",
     "iopub.status.busy": "2021-06-25T21:17:11.385700Z",
     "iopub.status.idle": "2021-06-25T21:17:11.392584Z",
     "shell.execute_reply": "2021-06-25T21:17:11.392122Z",
     "shell.execute_reply.started": "2021-06-05T14:30:45.023629Z"
    },
    "papermill": {
     "duration": 0.065581,
     "end_time": "2021-06-25T21:17:11.392718",
     "exception": false,
     "start_time": "2021-06-25T21:17:11.327137",
     "status": "completed"
    },
    "tags": []
   },
   "outputs": [],
   "source": [
    "# Calculating balls left\n",
    "new_df['balls_left'] = 120-(((new_df['over']-1)*6)+new_df['ball'])"
   ]
  },
  {
   "cell_type": "code",
   "execution_count": 36,
   "id": "chubby-representation",
   "metadata": {
    "execution": {
     "iopub.execute_input": "2021-06-25T21:17:11.506121Z",
     "iopub.status.busy": "2021-06-25T21:17:11.505512Z",
     "iopub.status.idle": "2021-06-25T21:17:11.510456Z",
     "shell.execute_reply": "2021-06-25T21:17:11.510862Z",
     "shell.execute_reply.started": "2021-06-05T14:30:45.040572Z"
    },
    "papermill": {
     "duration": 0.064192,
     "end_time": "2021-06-25T21:17:11.511027",
     "exception": false,
     "start_time": "2021-06-25T21:17:11.446835",
     "status": "completed"
    },
    "tags": []
   },
   "outputs": [],
   "source": [
    "# Creating the Final Dataset\n",
    "final_df = new_df[['over','ball','total_runs','wickets','target','balls_left','won']]"
   ]
  },
  {
   "cell_type": "code",
   "execution_count": 37,
   "id": "polar-visiting",
   "metadata": {
    "execution": {
     "iopub.execute_input": "2021-06-25T21:17:11.632183Z",
     "iopub.status.busy": "2021-06-25T21:17:11.631260Z",
     "iopub.status.idle": "2021-06-25T21:17:11.635391Z",
     "shell.execute_reply": "2021-06-25T21:17:11.634864Z",
     "shell.execute_reply.started": "2021-06-05T14:30:45.051221Z"
    },
    "papermill": {
     "duration": 0.070424,
     "end_time": "2021-06-25T21:17:11.635528",
     "exception": false,
     "start_time": "2021-06-25T21:17:11.565104",
     "status": "completed"
    },
    "tags": []
   },
   "outputs": [
    {
     "data": {
      "text/html": [
       "<div>\n",
       "<style scoped>\n",
       "    .dataframe tbody tr th:only-of-type {\n",
       "        vertical-align: middle;\n",
       "    }\n",
       "\n",
       "    .dataframe tbody tr th {\n",
       "        vertical-align: top;\n",
       "    }\n",
       "\n",
       "    .dataframe thead th {\n",
       "        text-align: right;\n",
       "    }\n",
       "</style>\n",
       "<table border=\"1\" class=\"dataframe\">\n",
       "  <thead>\n",
       "    <tr style=\"text-align: right;\">\n",
       "      <th></th>\n",
       "      <th>over</th>\n",
       "      <th>ball</th>\n",
       "      <th>total_runs</th>\n",
       "      <th>wickets</th>\n",
       "      <th>target</th>\n",
       "      <th>balls_left</th>\n",
       "      <th>won</th>\n",
       "    </tr>\n",
       "  </thead>\n",
       "  <tbody>\n",
       "    <tr>\n",
       "      <th>0</th>\n",
       "      <td>1.0</td>\n",
       "      <td>1.0</td>\n",
       "      <td>0.0</td>\n",
       "      <td>0.0</td>\n",
       "      <td>128</td>\n",
       "      <td>119.0</td>\n",
       "      <td>1</td>\n",
       "    </tr>\n",
       "    <tr>\n",
       "      <th>1</th>\n",
       "      <td>1.0</td>\n",
       "      <td>2.0</td>\n",
       "      <td>0.0</td>\n",
       "      <td>0.0</td>\n",
       "      <td>128</td>\n",
       "      <td>118.0</td>\n",
       "      <td>1</td>\n",
       "    </tr>\n",
       "    <tr>\n",
       "      <th>2</th>\n",
       "      <td>1.0</td>\n",
       "      <td>3.0</td>\n",
       "      <td>0.0</td>\n",
       "      <td>0.0</td>\n",
       "      <td>128</td>\n",
       "      <td>117.0</td>\n",
       "      <td>1</td>\n",
       "    </tr>\n",
       "    <tr>\n",
       "      <th>3</th>\n",
       "      <td>1.0</td>\n",
       "      <td>4.0</td>\n",
       "      <td>2.0</td>\n",
       "      <td>0.0</td>\n",
       "      <td>128</td>\n",
       "      <td>116.0</td>\n",
       "      <td>1</td>\n",
       "    </tr>\n",
       "    <tr>\n",
       "      <th>4</th>\n",
       "      <td>1.0</td>\n",
       "      <td>5.0</td>\n",
       "      <td>2.0</td>\n",
       "      <td>0.0</td>\n",
       "      <td>128</td>\n",
       "      <td>115.0</td>\n",
       "      <td>1</td>\n",
       "    </tr>\n",
       "  </tbody>\n",
       "</table>\n",
       "</div>"
      ],
      "text/plain": [
       "   over  ball  total_runs  wickets  target  balls_left  won\n",
       "0   1.0   1.0         0.0      0.0     128       119.0    1\n",
       "1   1.0   2.0         0.0      0.0     128       118.0    1\n",
       "2   1.0   3.0         0.0      0.0     128       117.0    1\n",
       "3   1.0   4.0         2.0      0.0     128       116.0    1\n",
       "4   1.0   5.0         2.0      0.0     128       115.0    1"
      ]
     },
     "execution_count": 37,
     "metadata": {},
     "output_type": "execute_result"
    }
   ],
   "source": [
    "final_df.head()"
   ]
  },
  {
   "cell_type": "code",
   "execution_count": 38,
   "id": "handed-visiting",
   "metadata": {
    "execution": {
     "iopub.execute_input": "2021-06-25T21:17:11.749932Z",
     "iopub.status.busy": "2021-06-25T21:17:11.749369Z",
     "iopub.status.idle": "2021-06-25T21:17:11.752988Z",
     "shell.execute_reply": "2021-06-25T21:17:11.752445Z",
     "shell.execute_reply.started": "2021-06-05T14:30:45.074705Z"
    },
    "papermill": {
     "duration": 0.063312,
     "end_time": "2021-06-25T21:17:11.753146",
     "exception": false,
     "start_time": "2021-06-25T21:17:11.689834",
     "status": "completed"
    },
    "tags": []
   },
   "outputs": [],
   "source": [
    "final_df['runs_left'] = final_df['target']- final_df['total_runs']"
   ]
  },
  {
   "cell_type": "code",
   "execution_count": 39,
   "id": "higher-louisiana",
   "metadata": {
    "execution": {
     "iopub.execute_input": "2021-06-25T21:17:11.865733Z",
     "iopub.status.busy": "2021-06-25T21:17:11.865170Z",
     "iopub.status.idle": "2021-06-25T21:17:12.427219Z",
     "shell.execute_reply": "2021-06-25T21:17:12.426607Z",
     "shell.execute_reply.started": "2021-06-05T14:42:57.966639Z"
    },
    "papermill": {
     "duration": 0.619536,
     "end_time": "2021-06-25T21:17:12.427355",
     "exception": false,
     "start_time": "2021-06-25T21:17:11.807819",
     "status": "completed"
    },
    "tags": []
   },
   "outputs": [
    {
     "data": {
      "image/png": "[encoded data removed]",
      "text/plain": [
       "<Figure size 640x480 with 2 Axes>"
      ]
     },
     "metadata": {},
     "output_type": "display_data"
    }
   ],
   "source": [
    "corrMatrix = final_df.corr()\n",
    "sns.heatmap(corrMatrix, annot=True)\n",
    "plt.show()"
   ]
  },
  {
   "cell_type": "markdown",
   "id": "remarkable-internet",
   "metadata": {
    "papermill": {
     "duration": 0.056146,
     "end_time": "2021-06-25T21:17:12.539792",
     "exception": false,
     "start_time": "2021-06-25T21:17:12.483646",
     "status": "completed"
    },
    "tags": []
   },
   "source": [
    "# Selecting particular columns for our model"
   ]
  },
  {
   "cell_type": "code",
   "execution_count": 40,
   "id": "crucial-audio",
   "metadata": {
    "execution": {
     "iopub.execute_input": "2021-06-25T21:17:12.656640Z",
     "iopub.status.busy": "2021-06-25T21:17:12.655998Z",
     "iopub.status.idle": "2021-06-25T21:17:12.658950Z",
     "shell.execute_reply": "2021-06-25T21:17:12.658414Z",
     "shell.execute_reply.started": "2021-06-05T14:30:45.09112Z"
    },
    "papermill": {
     "duration": 0.06299,
     "end_time": "2021-06-25T21:17:12.659091",
     "exception": false,
     "start_time": "2021-06-25T21:17:12.596101",
     "status": "completed"
    },
    "tags": []
   },
   "outputs": [],
   "source": [
    "new_cols =['wickets','balls_left','runs_left','won']"
   ]
  },
  {
   "cell_type": "code",
   "execution_count": 41,
   "id": "ordered-vietnamese",
   "metadata": {
    "execution": {
     "iopub.execute_input": "2021-06-25T21:17:12.776021Z",
     "iopub.status.busy": "2021-06-25T21:17:12.775415Z",
     "iopub.status.idle": "2021-06-25T21:17:12.785435Z",
     "shell.execute_reply": "2021-06-25T21:17:12.785884Z",
     "shell.execute_reply.started": "2021-06-05T14:30:45.106087Z"
    },
    "papermill": {
     "duration": 0.071169,
     "end_time": "2021-06-25T21:17:12.786037",
     "exception": false,
     "start_time": "2021-06-25T21:17:12.714868",
     "status": "completed"
    },
    "tags": []
   },
   "outputs": [
    {
     "data": {
      "text/html": [
       "<div>\n",
       "<style scoped>\n",
       "    .dataframe tbody tr th:only-of-type {\n",
       "        vertical-align: middle;\n",
       "    }\n",
       "\n",
       "    .dataframe tbody tr th {\n",
       "        vertical-align: top;\n",
       "    }\n",
       "\n",
       "    .dataframe thead th {\n",
       "        text-align: right;\n",
       "    }\n",
       "</style>\n",
       "<table border=\"1\" class=\"dataframe\">\n",
       "  <thead>\n",
       "    <tr style=\"text-align: right;\">\n",
       "      <th></th>\n",
       "      <th>wickets</th>\n",
       "      <th>balls_left</th>\n",
       "      <th>runs_left</th>\n",
       "      <th>won</th>\n",
       "    </tr>\n",
       "  </thead>\n",
       "  <tbody>\n",
       "    <tr>\n",
       "      <th>0</th>\n",
       "      <td>0.0</td>\n",
       "      <td>119.0</td>\n",
       "      <td>128.0</td>\n",
       "      <td>1</td>\n",
       "    </tr>\n",
       "    <tr>\n",
       "      <th>1</th>\n",
       "      <td>0.0</td>\n",
       "      <td>118.0</td>\n",
       "      <td>128.0</td>\n",
       "      <td>1</td>\n",
       "    </tr>\n",
       "    <tr>\n",
       "      <th>2</th>\n",
       "      <td>0.0</td>\n",
       "      <td>117.0</td>\n",
       "      <td>128.0</td>\n",
       "      <td>1</td>\n",
       "    </tr>\n",
       "    <tr>\n",
       "      <th>3</th>\n",
       "      <td>0.0</td>\n",
       "      <td>116.0</td>\n",
       "      <td>126.0</td>\n",
       "      <td>1</td>\n",
       "    </tr>\n",
       "    <tr>\n",
       "      <th>4</th>\n",
       "      <td>0.0</td>\n",
       "      <td>115.0</td>\n",
       "      <td>126.0</td>\n",
       "      <td>1</td>\n",
       "    </tr>\n",
       "  </tbody>\n",
       "</table>\n",
       "</div>"
      ],
      "text/plain": [
       "   wickets  balls_left  runs_left  won\n",
       "0      0.0       119.0      128.0    1\n",
       "1      0.0       118.0      128.0    1\n",
       "2      0.0       117.0      128.0    1\n",
       "3      0.0       116.0      126.0    1\n",
       "4      0.0       115.0      126.0    1"
      ]
     },
     "execution_count": 41,
     "metadata": {},
     "output_type": "execute_result"
    }
   ],
   "source": [
    "psl_df = final_df[new_cols]\n",
    "psl_df.head()"
   ]
  },
  {
   "cell_type": "code",
   "execution_count": 42,
   "id": "plain-attendance",
   "metadata": {
    "execution": {
     "iopub.execute_input": "2021-06-25T21:17:12.902513Z",
     "iopub.status.busy": "2021-06-25T21:17:12.901935Z",
     "iopub.status.idle": "2021-06-25T21:17:12.909267Z",
     "shell.execute_reply": "2021-06-25T21:17:12.909700Z",
     "shell.execute_reply.started": "2021-06-05T14:30:45.131786Z"
    },
    "papermill": {
     "duration": 0.067664,
     "end_time": "2021-06-25T21:17:12.909870",
     "exception": false,
     "start_time": "2021-06-25T21:17:12.842206",
     "status": "completed"
    },
    "tags": []
   },
   "outputs": [
    {
     "data": {
      "text/plain": [
       "wickets       2\n",
       "balls_left    2\n",
       "runs_left     2\n",
       "won           0\n",
       "dtype: int64"
      ]
     },
     "execution_count": 42,
     "metadata": {},
     "output_type": "execute_result"
    }
   ],
   "source": [
    "psl_df.isnull().sum()"
   ]
  },
  {
   "cell_type": "code",
   "execution_count": 43,
   "id": "touched-nothing",
   "metadata": {
    "execution": {
     "iopub.execute_input": "2021-06-25T21:17:13.026133Z",
     "iopub.status.busy": "2021-06-25T21:17:13.025498Z",
     "iopub.status.idle": "2021-06-25T21:17:13.029555Z",
     "shell.execute_reply": "2021-06-25T21:17:13.029963Z",
     "shell.execute_reply.started": "2021-06-05T14:30:45.144765Z"
    },
    "papermill": {
     "duration": 0.063606,
     "end_time": "2021-06-25T21:17:13.030206",
     "exception": false,
     "start_time": "2021-06-25T21:17:12.966600",
     "status": "completed"
    },
    "tags": []
   },
   "outputs": [
    {
     "data": {
      "text/plain": [
       "(24186, 4)"
      ]
     },
     "execution_count": 43,
     "metadata": {},
     "output_type": "execute_result"
    }
   ],
   "source": [
    "psl_df.shape"
   ]
  },
  {
   "cell_type": "code",
   "execution_count": 44,
   "id": "medieval-setup",
   "metadata": {
    "execution": {
     "iopub.execute_input": "2021-06-25T21:17:13.147141Z",
     "iopub.status.busy": "2021-06-25T21:17:13.146553Z",
     "iopub.status.idle": "2021-06-25T21:17:13.155103Z",
     "shell.execute_reply": "2021-06-25T21:17:13.155548Z",
     "shell.execute_reply.started": "2021-06-05T14:30:45.159897Z"
    },
    "papermill": {
     "duration": 0.068984,
     "end_time": "2021-06-25T21:17:13.155711",
     "exception": false,
     "start_time": "2021-06-25T21:17:13.086727",
     "status": "completed"
    },
    "tags": []
   },
   "outputs": [],
   "source": [
    "psl_df = psl_df.apply (pd.to_numeric, errors='coerce')\n",
    "psl_df = psl_df.dropna()"
   ]
  },
  {
   "cell_type": "code",
   "execution_count": 45,
   "id": "cellular-bouquet",
   "metadata": {
    "execution": {
     "iopub.execute_input": "2021-06-25T21:17:13.272886Z",
     "iopub.status.busy": "2021-06-25T21:17:13.272308Z",
     "iopub.status.idle": "2021-06-25T21:17:13.277048Z",
     "shell.execute_reply": "2021-06-25T21:17:13.277568Z",
     "shell.execute_reply.started": "2021-06-05T14:30:45.176983Z"
    },
    "papermill": {
     "duration": 0.064842,
     "end_time": "2021-06-25T21:17:13.277724",
     "exception": false,
     "start_time": "2021-06-25T21:17:13.212882",
     "status": "completed"
    },
    "tags": []
   },
   "outputs": [
    {
     "data": {
      "text/plain": [
       "(24184, 4)"
      ]
     },
     "execution_count": 45,
     "metadata": {},
     "output_type": "execute_result"
    }
   ],
   "source": [
    "psl_df.shape"
   ]
  },
  {
   "cell_type": "code",
   "execution_count": 46,
   "id": "humanitarian-article",
   "metadata": {
    "execution": {
     "iopub.execute_input": "2021-06-25T21:17:13.397193Z",
     "iopub.status.busy": "2021-06-25T21:17:13.396403Z",
     "iopub.status.idle": "2021-06-25T21:17:13.401528Z",
     "shell.execute_reply": "2021-06-25T21:17:13.400901Z",
     "shell.execute_reply.started": "2021-06-05T14:30:45.195846Z"
    },
    "papermill": {
     "duration": 0.064981,
     "end_time": "2021-06-25T21:17:13.401665",
     "exception": false,
     "start_time": "2021-06-25T21:17:13.336684",
     "status": "completed"
    },
    "tags": []
   },
   "outputs": [],
   "source": [
    "# X and Y Split\n",
    "y = psl_df.iloc[:,3]\n",
    "X = psl_df.iloc[:,:3]"
   ]
  },
  {
   "cell_type": "code",
   "execution_count": 47,
   "id": "entire-kernel",
   "metadata": {
    "execution": {
     "iopub.execute_input": "2021-06-25T21:17:13.522235Z",
     "iopub.status.busy": "2021-06-25T21:17:13.521581Z",
     "iopub.status.idle": "2021-06-25T21:17:13.526595Z",
     "shell.execute_reply": "2021-06-25T21:17:13.526016Z",
     "shell.execute_reply.started": "2021-06-05T14:30:45.209426Z"
    },
    "papermill": {
     "duration": 0.067452,
     "end_time": "2021-06-25T21:17:13.526726",
     "exception": false,
     "start_time": "2021-06-25T21:17:13.459274",
     "status": "completed"
    },
    "tags": []
   },
   "outputs": [],
   "source": [
    "# Train and Test Split\n",
    "X_train, X_test, y_train, y_test = train_test_split(X,y,test_size=0.2,random_state = 42)"
   ]
  },
  {
   "cell_type": "markdown",
   "id": "impaired-legislature",
   "metadata": {
    "papermill": {
     "duration": 0.056801,
     "end_time": "2021-06-25T21:17:13.640525",
     "exception": false,
     "start_time": "2021-06-25T21:17:13.583724",
     "status": "completed"
    },
    "tags": []
   },
   "source": [
    "# Making predictions with Random Forest Classifier"
   ]
  },
  {
   "cell_type": "code",
   "execution_count": 48,
   "id": "logical-friday",
   "metadata": {
    "execution": {
     "iopub.execute_input": "2021-06-25T21:17:13.761684Z",
     "iopub.status.busy": "2021-06-25T21:17:13.761045Z",
     "iopub.status.idle": "2021-06-25T21:18:00.691174Z",
     "shell.execute_reply": "2021-06-25T21:18:00.691843Z",
     "shell.execute_reply.started": "2021-06-05T14:30:45.228814Z"
    },
    "papermill": {
     "duration": 46.994324,
     "end_time": "2021-06-25T21:18:00.692064",
     "exception": false,
     "start_time": "2021-06-25T21:17:13.697740",
     "status": "completed"
    },
    "tags": []
   },
   "outputs": [
    {
     "name": "stdout",
     "output_type": "stream",
     "text": [
      "Time Taken to Train 106.9102714061737 seconds\n"
     ]
    }
   ],
   "source": [
    "# Training Model\n",
    "start = time.time()\n",
    "RF = RandomForestClassifier(n_estimators = 10000, max_depth=6, random_state=0)\n",
    "RF.fit(X_train, y_train)\n",
    "print(f\"Time Taken to Train {time.time()-start} seconds\")"
   ]
  },
  {
   "cell_type": "code",
   "execution_count": 49,
   "id": "leading-pizza",
   "metadata": {
    "execution": {
     "iopub.execute_input": "2021-06-25T21:18:00.809197Z",
     "iopub.status.busy": "2021-06-25T21:18:00.808363Z",
     "iopub.status.idle": "2021-06-25T21:18:04.142018Z",
     "shell.execute_reply": "2021-06-25T21:18:04.141529Z",
     "shell.execute_reply.started": "2021-06-05T14:31:40.753378Z"
    },
    "papermill": {
     "duration": 3.392659,
     "end_time": "2021-06-25T21:18:04.142180",
     "exception": false,
     "start_time": "2021-06-25T21:18:00.749521",
     "status": "completed"
    },
    "tags": []
   },
   "outputs": [],
   "source": [
    "y_pred_test = RF.predict(X_test)"
   ]
  },
  {
   "cell_type": "code",
   "execution_count": 50,
   "id": "sweet-screw",
   "metadata": {
    "execution": {
     "iopub.execute_input": "2021-06-25T21:18:04.260250Z",
     "iopub.status.busy": "2021-06-25T21:18:04.259641Z",
     "iopub.status.idle": "2021-06-25T21:18:04.262982Z",
     "shell.execute_reply": "2021-06-25T21:18:04.263428Z",
     "shell.execute_reply.started": "2021-06-05T14:31:44.591683Z"
    },
    "papermill": {
     "duration": 0.064763,
     "end_time": "2021-06-25T21:18:04.263572",
     "exception": false,
     "start_time": "2021-06-25T21:18:04.198809",
     "status": "completed"
    },
    "tags": []
   },
   "outputs": [
    {
     "data": {
      "text/plain": [
       "0.7862311350010337"
      ]
     },
     "execution_count": 50,
     "metadata": {},
     "output_type": "execute_result"
    }
   ],
   "source": [
    "accuracy_score(y_test, y_pred_test)"
   ]
  },
  {
   "cell_type": "code",
   "execution_count": 51,
   "id": "rotary-estonia",
   "metadata": {
    "execution": {
     "iopub.execute_input": "2021-06-25T21:18:04.379741Z",
     "iopub.status.busy": "2021-06-25T21:18:04.379232Z",
     "iopub.status.idle": "2021-06-25T21:18:04.392207Z",
     "shell.execute_reply": "2021-06-25T21:18:04.392843Z",
     "shell.execute_reply.started": "2021-06-05T14:31:44.601524Z"
    },
    "papermill": {
     "duration": 0.072793,
     "end_time": "2021-06-25T21:18:04.393050",
     "exception": false,
     "start_time": "2021-06-25T21:18:04.320257",
     "status": "completed"
    },
    "tags": []
   },
   "outputs": [
    {
     "name": "stdout",
     "output_type": "stream",
     "text": [
      "              precision    recall  f1-score   support\n",
      "\n",
      "           0       0.78      0.69      0.73      2059\n",
      "           1       0.79      0.86      0.82      2778\n",
      "\n",
      "    accuracy                           0.79      4837\n",
      "   macro avg       0.79      0.77      0.78      4837\n",
      "weighted avg       0.79      0.79      0.78      4837\n",
      "\n"
     ]
    }
   ],
   "source": [
    "print(classification_report(y_test, y_pred_test))"
   ]
  },
  {
   "cell_type": "code",
   "execution_count": 52,
   "id": "pointed-portal",
   "metadata": {
    "execution": {
     "iopub.execute_input": "2021-06-25T21:18:04.511773Z",
     "iopub.status.busy": "2021-06-25T21:18:04.511228Z",
     "iopub.status.idle": "2021-06-25T21:18:05.310019Z",
     "shell.execute_reply": "2021-06-25T21:18:05.309498Z",
     "shell.execute_reply.started": "2021-06-05T14:31:44.622612Z"
    },
    "papermill": {
     "duration": 0.858851,
     "end_time": "2021-06-25T21:18:05.310161",
     "exception": false,
     "start_time": "2021-06-25T21:18:04.451310",
     "status": "completed"
    },
    "tags": []
   },
   "outputs": [
    {
     "data": {
      "text/plain": [
       "array([[0.38880074, 0.61119926]])"
      ]
     },
     "execution_count": 52,
     "metadata": {},
     "output_type": "execute_result"
    }
   ],
   "source": [
    "current= {\n",
    "    \"wickets\":1,\n",
    "    \"balls_left\" :105,\n",
    "    \"runs_left\":137\n",
    "}\n",
    "current_df = pd.DataFrame(current,index=[0])\n",
    "RF.predict_proba(current_df)"
   ]
  },
  {
   "cell_type": "markdown",
   "id": "juvenile-brooklyn",
   "metadata": {
    "papermill": {
     "duration": 0.057584,
     "end_time": "2021-06-25T21:18:05.425720",
     "exception": false,
     "start_time": "2021-06-25T21:18:05.368136",
     "status": "completed"
    },
    "tags": []
   },
   "source": [
    "# Making predictions with XGBoost Classifier"
   ]
  },
  {
   "cell_type": "code",
   "execution_count": 53,
   "id": "advanced-malawi",
   "metadata": {
    "execution": {
     "iopub.execute_input": "2021-06-25T21:18:05.546424Z",
     "iopub.status.busy": "2021-06-25T21:18:05.545541Z",
     "iopub.status.idle": "2021-06-25T21:18:05.896552Z",
     "shell.execute_reply": "2021-06-25T21:18:05.896092Z",
     "shell.execute_reply.started": "2021-06-05T14:31:45.594576Z"
    },
    "papermill": {
     "duration": 0.413368,
     "end_time": "2021-06-25T21:18:05.896686",
     "exception": false,
     "start_time": "2021-06-25T21:18:05.483318",
     "status": "completed"
    },
    "tags": []
   },
   "outputs": [
    {
     "data": {
      "text/html": [
       "<style>#sk-container-id-1 {color: black;background-color: white;}#sk-container-id-1 pre{padding: 0;}#sk-container-id-1 div.sk-toggleable {background-color: white;}#sk-container-id-1 label.sk-toggleable__label {cursor: pointer;display: block;width: 100%;margin-bottom: 0;padding: 0.3em;box-sizing: border-box;text-align: center;}#sk-container-id-1 label.sk-toggleable__label-arrow:before {content: \"▸\";float: left;margin-right: 0.25em;color: #696969;}#sk-container-id-1 label.sk-toggleable__label-arrow:hover:before {color: black;}#sk-container-id-1 div.sk-estimator:hover label.sk-toggleable__label-arrow:before {color: black;}#sk-container-id-1 div.sk-toggleable__content {max-height: 0;max-width: 0;overflow: hidden;text-align: left;background-color: #f0f8ff;}#sk-container-id-1 div.sk-toggleable__content pre {margin: 0.2em;color: black;border-radius: 0.25em;background-color: #f0f8ff;}#sk-container-id-1 input.sk-toggleable__control:checked~div.sk-toggleable__content {max-height: 200px;max-width: 100%;overflow: auto;}#sk-container-id-1 input.sk-toggleable__control:checked~label.sk-toggleable__label-arrow:before {content: \"▾\";}#sk-container-id-1 div.sk-estimator input.sk-toggleable__control:checked~label.sk-toggleable__label {background-color: #d4ebff;}#sk-container-id-1 div.sk-label input.sk-toggleable__control:checked~label.sk-toggleable__label {background-color: #d4ebff;}#sk-container-id-1 input.sk-hidden--visually {border: 0;clip: rect(1px 1px 1px 1px);clip: rect(1px, 1px, 1px, 1px);height: 1px;margin: -1px;overflow: hidden;padding: 0;position: absolute;width: 1px;}#sk-container-id-1 div.sk-estimator {font-family: monospace;background-color: #f0f8ff;border: 1px dotted black;border-radius: 0.25em;box-sizing: border-box;margin-bottom: 0.5em;}#sk-container-id-1 div.sk-estimator:hover {background-color: #d4ebff;}#sk-container-id-1 div.sk-parallel-item::after {content: \"\";width: 100%;border-bottom: 1px solid gray;flex-grow: 1;}#sk-container-id-1 div.sk-label:hover label.sk-toggleable__label {background-color: #d4ebff;}#sk-container-id-1 div.sk-serial::before {content: \"\";position: absolute;border-left: 1px solid gray;box-sizing: border-box;top: 0;bottom: 0;left: 50%;z-index: 0;}#sk-container-id-1 div.sk-serial {display: flex;flex-direction: column;align-items: center;background-color: white;padding-right: 0.2em;padding-left: 0.2em;position: relative;}#sk-container-id-1 div.sk-item {position: relative;z-index: 1;}#sk-container-id-1 div.sk-parallel {display: flex;align-items: stretch;justify-content: center;background-color: white;position: relative;}#sk-container-id-1 div.sk-item::before, #sk-container-id-1 div.sk-parallel-item::before {content: \"\";position: absolute;border-left: 1px solid gray;box-sizing: border-box;top: 0;bottom: 0;left: 50%;z-index: -1;}#sk-container-id-1 div.sk-parallel-item {display: flex;flex-direction: column;z-index: 1;position: relative;background-color: white;}#sk-container-id-1 div.sk-parallel-item:first-child::after {align-self: flex-end;width: 50%;}#sk-container-id-1 div.sk-parallel-item:last-child::after {align-self: flex-start;width: 50%;}#sk-container-id-1 div.sk-parallel-item:only-child::after {width: 0;}#sk-container-id-1 div.sk-dashed-wrapped {border: 1px dashed gray;margin: 0 0.4em 0.5em 0.4em;box-sizing: border-box;padding-bottom: 0.4em;background-color: white;}#sk-container-id-1 div.sk-label label {font-family: monospace;font-weight: bold;display: inline-block;line-height: 1.2em;}#sk-container-id-1 div.sk-label-container {text-align: center;}#sk-container-id-1 div.sk-container {/* jupyter's `normalize.less` sets `[hidden] { display: none; }` but bootstrap.min.css set `[hidden] { display: none !important; }` so we also need the `!important` here to be able to override the default hidden behavior on the sphinx rendered scikit-learn.org. See: https://github.com/scikit-learn/scikit-learn/issues/21755 */display: inline-block !important;position: relative;}#sk-container-id-1 div.sk-text-repr-fallback {display: none;}</style><div id=\"sk-container-id-1\" class=\"sk-top-container\"><div class=\"sk-text-repr-fallback\"><pre>XGBClassifier(base_score=None, booster=None, callbacks=None,\n",
       "              colsample_bylevel=None, colsample_bynode=None,\n",
       "              colsample_bytree=None, early_stopping_rounds=None,\n",
       "              enable_categorical=False, eval_metric=None, feature_types=None,\n",
       "              gamma=None, gpu_id=None, grow_policy=None, importance_type=None,\n",
       "              interaction_constraints=None, learning_rate=None, max_bin=None,\n",
       "              max_cat_threshold=None, max_cat_to_onehot=None,\n",
       "              max_delta_step=None, max_depth=None, max_leaves=None,\n",
       "              min_child_weight=None, missing=nan, monotone_constraints=None,\n",
       "              n_estimators=100, n_jobs=None, num_parallel_tree=None,\n",
       "              predictor=None, random_state=None, ...)</pre><b>In a Jupyter environment, please rerun this cell to show the HTML representation or trust the notebook. <br />On GitHub, the HTML representation is unable to render, please try loading this page with nbviewer.org.</b></div><div class=\"sk-container\" hidden><div class=\"sk-item\"><div class=\"sk-estimator sk-toggleable\"><input class=\"sk-toggleable__control sk-hidden--visually\" id=\"sk-estimator-id-1\" type=\"checkbox\" checked><label for=\"sk-estimator-id-1\" class=\"sk-toggleable__label sk-toggleable__label-arrow\">XGBClassifier</label><div class=\"sk-toggleable__content\"><pre>XGBClassifier(base_score=None, booster=None, callbacks=None,\n",
       "              colsample_bylevel=None, colsample_bynode=None,\n",
       "              colsample_bytree=None, early_stopping_rounds=None,\n",
       "              enable_categorical=False, eval_metric=None, feature_types=None,\n",
       "              gamma=None, gpu_id=None, grow_policy=None, importance_type=None,\n",
       "              interaction_constraints=None, learning_rate=None, max_bin=None,\n",
       "              max_cat_threshold=None, max_cat_to_onehot=None,\n",
       "              max_delta_step=None, max_depth=None, max_leaves=None,\n",
       "              min_child_weight=None, missing=nan, monotone_constraints=None,\n",
       "              n_estimators=100, n_jobs=None, num_parallel_tree=None,\n",
       "              predictor=None, random_state=None, ...)</pre></div></div></div></div></div>"
      ],
      "text/plain": [
       "XGBClassifier(base_score=None, booster=None, callbacks=None,\n",
       "              colsample_bylevel=None, colsample_bynode=None,\n",
       "              colsample_bytree=None, early_stopping_rounds=None,\n",
       "              enable_categorical=False, eval_metric=None, feature_types=None,\n",
       "              gamma=None, gpu_id=None, grow_policy=None, importance_type=None,\n",
       "              interaction_constraints=None, learning_rate=None, max_bin=None,\n",
       "              max_cat_threshold=None, max_cat_to_onehot=None,\n",
       "              max_delta_step=None, max_depth=None, max_leaves=None,\n",
       "              min_child_weight=None, missing=nan, monotone_constraints=None,\n",
       "              n_estimators=100, n_jobs=None, num_parallel_tree=None,\n",
       "              predictor=None, random_state=None, ...)"
      ]
     },
     "execution_count": 53,
     "metadata": {},
     "output_type": "execute_result"
    }
   ],
   "source": [
    "XGBC = xgboost.XGBClassifier()\n",
    "XGBC.fit(X_train, y_train)"
   ]
  },
  {
   "cell_type": "code",
   "execution_count": 54,
   "id": "sticky-acoustic",
   "metadata": {
    "execution": {
     "iopub.execute_input": "2021-06-25T21:18:06.027748Z",
     "iopub.status.busy": "2021-06-25T21:18:06.018690Z",
     "iopub.status.idle": "2021-06-25T21:18:06.030115Z",
     "shell.execute_reply": "2021-06-25T21:18:06.030514Z",
     "shell.execute_reply.started": "2021-06-05T14:31:45.933443Z"
    },
    "papermill": {
     "duration": 0.074887,
     "end_time": "2021-06-25T21:18:06.030672",
     "exception": false,
     "start_time": "2021-06-25T21:18:05.955785",
     "status": "completed"
    },
    "tags": []
   },
   "outputs": [],
   "source": [
    "y_pred = XGBC.predict(X_test)\n",
    "predictions = [round(value) for value in y_pred]"
   ]
  },
  {
   "cell_type": "code",
   "execution_count": 55,
   "id": "psychological-maria",
   "metadata": {
    "execution": {
     "iopub.execute_input": "2021-06-25T21:18:06.152342Z",
     "iopub.status.busy": "2021-06-25T21:18:06.151668Z",
     "iopub.status.idle": "2021-06-25T21:18:06.156986Z",
     "shell.execute_reply": "2021-06-25T21:18:06.156545Z",
     "shell.execute_reply.started": "2021-06-05T14:31:45.955235Z"
    },
    "papermill": {
     "duration": 0.067751,
     "end_time": "2021-06-25T21:18:06.157119",
     "exception": false,
     "start_time": "2021-06-25T21:18:06.089368",
     "status": "completed"
    },
    "tags": []
   },
   "outputs": [
    {
     "name": "stdout",
     "output_type": "stream",
     "text": [
      "Accuracy: 80.42%\n"
     ]
    }
   ],
   "source": [
    "# evaluate predictions\n",
    "accuracy = accuracy_score(y_test, predictions)\n",
    "print(\"Accuracy: %.2f%%\" % (accuracy * 100.0))"
   ]
  },
  {
   "cell_type": "code",
   "execution_count": 56,
   "id": "eight-bacon",
   "metadata": {
    "execution": {
     "iopub.execute_input": "2021-06-25T21:18:06.278996Z",
     "iopub.status.busy": "2021-06-25T21:18:06.278427Z",
     "iopub.status.idle": "2021-06-25T21:18:06.292695Z",
     "shell.execute_reply": "2021-06-25T21:18:06.293207Z",
     "shell.execute_reply.started": "2021-06-05T14:37:25.531149Z"
    },
    "papermill": {
     "duration": 0.077596,
     "end_time": "2021-06-25T21:18:06.293379",
     "exception": false,
     "start_time": "2021-06-25T21:18:06.215783",
     "status": "completed"
    },
    "tags": []
   },
   "outputs": [
    {
     "name": "stdout",
     "output_type": "stream",
     "text": [
      "              precision    recall  f1-score   support\n",
      "\n",
      "           0       0.78      0.75      0.76      2059\n",
      "           1       0.82      0.85      0.83      2778\n",
      "\n",
      "    accuracy                           0.80      4837\n",
      "   macro avg       0.80      0.80      0.80      4837\n",
      "weighted avg       0.80      0.80      0.80      4837\n",
      "\n"
     ]
    }
   ],
   "source": [
    "print(classification_report(y_test, predictions))"
   ]
  },
  {
   "cell_type": "code",
   "execution_count": 57,
   "id": "ecological-breathing",
   "metadata": {
    "execution": {
     "iopub.execute_input": "2021-06-25T21:18:06.416229Z",
     "iopub.status.busy": "2021-06-25T21:18:06.415545Z",
     "iopub.status.idle": "2021-06-25T21:18:06.423518Z",
     "shell.execute_reply": "2021-06-25T21:18:06.423875Z",
     "shell.execute_reply.started": "2021-06-05T14:31:45.982527Z"
    },
    "papermill": {
     "duration": 0.072173,
     "end_time": "2021-06-25T21:18:06.424023",
     "exception": false,
     "start_time": "2021-06-25T21:18:06.351850",
     "status": "completed"
    },
    "tags": []
   },
   "outputs": [
    {
     "data": {
      "text/plain": [
       "array([[0.22872055, 0.77127945]], dtype=float32)"
      ]
     },
     "execution_count": 57,
     "metadata": {},
     "output_type": "execute_result"
    }
   ],
   "source": [
    "current= {\n",
    "    \"wickets\":1,\n",
    "    \"balls_left\" :105,\n",
    "    \"runs_left\":137\n",
    "}\n",
    "current_df = pd.DataFrame(current,index=[0])\n",
    "XGBC.predict_proba(current_df)"
   ]
  },
  {
   "cell_type": "markdown",
   "id": "substantial-overall",
   "metadata": {
    "papermill": {
     "duration": 0.058404,
     "end_time": "2021-06-25T21:18:06.589329",
     "exception": false,
     "start_time": "2021-06-25T21:18:06.530925",
     "status": "completed"
    },
    "tags": []
   },
   "source": [
    "# Making predictions with SVM "
   ]
  },
  {
   "cell_type": "code",
   "execution_count": 58,
   "id": "martial-physiology",
   "metadata": {
    "execution": {
     "iopub.execute_input": "2021-06-25T21:18:06.708893Z",
     "iopub.status.busy": "2021-06-25T21:18:06.708354Z",
     "iopub.status.idle": "2021-06-25T21:18:13.272086Z",
     "shell.execute_reply": "2021-06-25T21:18:13.271420Z",
     "shell.execute_reply.started": "2021-06-05T14:31:45.999627Z"
    },
    "papermill": {
     "duration": 6.624804,
     "end_time": "2021-06-25T21:18:13.272268",
     "exception": false,
     "start_time": "2021-06-25T21:18:06.647464",
     "status": "completed"
    },
    "tags": []
   },
   "outputs": [
    {
     "name": "stdout",
     "output_type": "stream",
     "text": [
      "The accuracy using SVC Classifier is: 78.54041761422368\n"
     ]
    }
   ],
   "source": [
    "# Define model\n",
    "SVC_model = svm.SVC()\n",
    "\n",
    "# Fit model\n",
    "SVC_model.fit(X_train, y_train)\n",
    "\n",
    "#Predict Output \n",
    "predicted = SVC_model.predict(X_test)\n",
    "a = accuracy_score(y_test,predicted)\n",
    "print('The accuracy using SVC Classifier is:',format(a*100))"
   ]
  },
  {
   "cell_type": "code",
   "execution_count": 59,
   "id": "optional-albania",
   "metadata": {
    "execution": {
     "iopub.execute_input": "2021-06-25T21:18:13.397363Z",
     "iopub.status.busy": "2021-06-25T21:18:13.396693Z",
     "iopub.status.idle": "2021-06-25T21:18:13.409934Z",
     "shell.execute_reply": "2021-06-25T21:18:13.410623Z",
     "shell.execute_reply.started": "2021-06-05T14:38:16.554697Z"
    },
    "papermill": {
     "duration": 0.077376,
     "end_time": "2021-06-25T21:18:13.410912",
     "exception": false,
     "start_time": "2021-06-25T21:18:13.333536",
     "status": "completed"
    },
    "tags": []
   },
   "outputs": [
    {
     "name": "stdout",
     "output_type": "stream",
     "text": [
      "              precision    recall  f1-score   support\n",
      "\n",
      "           0       0.77      0.71      0.74      2059\n",
      "           1       0.80      0.84      0.82      2778\n",
      "\n",
      "    accuracy                           0.79      4837\n",
      "   macro avg       0.78      0.78      0.78      4837\n",
      "weighted avg       0.78      0.79      0.78      4837\n",
      "\n"
     ]
    }
   ],
   "source": [
    "print(classification_report(y_test, predicted))"
   ]
  },
  {
   "cell_type": "code",
   "execution_count": 60,
   "id": "likely-speaking",
   "metadata": {
    "execution": {
     "iopub.execute_input": "2021-06-25T21:18:13.537830Z",
     "iopub.status.busy": "2021-06-25T21:18:13.537280Z",
     "iopub.status.idle": "2021-06-25T21:18:13.559430Z",
     "shell.execute_reply": "2021-06-25T21:18:13.558884Z"
    },
    "papermill": {
     "duration": 0.087099,
     "end_time": "2021-06-25T21:18:13.559559",
     "exception": false,
     "start_time": "2021-06-25T21:18:13.472460",
     "status": "completed"
    },
    "tags": []
   },
   "outputs": [
    {
     "data": {
      "text/plain": [
       "['./model.joblib']"
      ]
     },
     "execution_count": 60,
     "metadata": {},
     "output_type": "execute_result"
    }
   ],
   "source": [
    "# Saving Model\n",
    "joblib.dump(XGBC, \"./model.joblib\")"
   ]
  },
  {
   "cell_type": "code",
   "execution_count": 67,
   "id": "445960f8",
   "metadata": {},
   "outputs": [],
   "source": [
    "import pickle\n",
    "pickle.dump(XGBC,open(\"PSL-Win-XGBC-model.pkl\",\"wb\"))"
   ]
  },
  {
   "attachments": {},
   "cell_type": "markdown",
   "id": "cce3a9e1",
   "metadata": {},
   "source": [
    "## Wahaj Raza"
   ]
  }
 ],
 "metadata": {
  "kernelspec": {
   "display_name": "Python 3",
   "language": "python",
   "name": "python3"
  },
  "language_info": {
   "codemirror_mode": {
    "name": "ipython",
    "version": 3
   },
   "file_extension": ".py",
   "mimetype": "text/x-python",
   "name": "python",
   "nbconvert_exporter": "python",
   "pygments_lexer": "ipython3",
   "version": "3.11.1"
  },
  "papermill": {
   "default_parameters": {},
   "duration": 82.874845,
   "end_time": "2021-06-25T21:18:14.890788",
   "environment_variables": {},
   "exception": null,
   "input_path": "__notebook__.ipynb",
   "output_path": "__notebook__.ipynb",
   "parameters": {},
   "start_time": "2021-06-25T21:16:52.015943",
   "version": "2.3.3"
  },
  "vscode": {
   "interpreter": {
    "hash": "b98f472bb8ba48098397e3b897b5be76f7bf0e62d98845cdb0e8066dc5677259"
   }
  }
 },
 "nbformat": 4,
 "nbformat_minor": 5
}
